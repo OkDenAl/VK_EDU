{
 "cells": [
  {
   "cell_type": "markdown",
   "source": [
    "# Домашнее задание"
   ],
   "metadata": {
    "collapsed": false
   }
  },
  {
   "cell_type": "markdown",
   "source": [
    "### 1. Реализовать персональный топ  - принимает на вход возраст и локацию, на выходе персональный топ   - 1 балл\n",
    "\n",
    "Персональный топ - это топ товаров по похожим возрасту/интересам/локации. Как сделать? Разбить на сегменты по выбраным признакам. Топ делать по книгам с хорошим средним рейтингом.\n",
    "\n",
    "### 2. На основе метода кластеризации похожих пользователей построить рекомендации (Слайд 27) - 3 балла\n",
    "\n",
    "Нужно топ-10 рекомендаций с самой высокой оценкой. Считаем среднюю оценку для каждой книги по кластеру и выводим топ-10 книг.\n",
    "\n",
    "### 3. Совстречаемость - 3 балла\n",
    "\n",
    "В совстречаемости также учитывать оценки. Вес пары книг встретившихся у пользователя - полусумма их оценок.\n",
    "\n",
    "### 4. Коллаборативная фильтрация - 3 балла\n",
    "\n",
    "Коллаборативную фильтрацию реализовывать как на слайде 51 презентации, посоветовав каждому пользователю топ-10 книг с самой высокой оценкой. Сделать рекомендации User-based и Item-based и сравнить.\n",
    "\n",
    "Если совсем сложно - можно сделать как в семинарской части, поставив оценку \"0\", если рейтинг < 5 и \"1\" - в противном случае. Тогда максимум за это - 1 балл. Реализовать U2I и I2I рекомендации.\n",
    "\n",
    "### Примечание:\n",
    "\n",
    "Так как пользователей много - можно зафиксировать несколько произвольных и для них уже составлять рекомендации\n",
    "\n",
    "Работоспособность I2I можно проверять на известных книгах (Гарри Поттер, Властелин Колец, Интервью с вампиром, Код-Да-Винчи, Маленький Принц)\n",
    "\n",
    "Рейтинг книг обязательно нужно учитывать\n",
    "\n",
    "Не забываем также предобработать данные - выкинуть выбросы-пользователей и выбросы-книги.\n",
    "\n",
    "Выводить в качестве рекомендаций лучше названия книг, картинки (если они есть) и соответствующие метрики близости."
   ],
   "metadata": {
    "collapsed": false
   }
  },
  {
   "cell_type": "code",
   "execution_count": 107,
   "outputs": [],
   "source": [
    "import numpy as np\n",
    "import pandas as pd\n",
    "import matplotlib.pyplot as plt\n",
    "import seaborn as sns\n",
    "import tqdm\n",
    "import re\n",
    "\n",
    "from io import BytesIO\n",
    "from PIL import Image\n",
    "import requests\n",
    "from scipy.sparse import coo_matrix, csr_matrix\n",
    "\n",
    "from sklearn.metrics.pairwise import cosine_similarity\n",
    "from sklearn.neighbors import NearestNeighbors\n",
    "from sklearn.feature_extraction.text import CountVectorizer\n",
    "from sklearn.preprocessing import StandardScaler, MinMaxScaler, LabelEncoder"
   ],
   "metadata": {
    "collapsed": false
   }
  },
  {
   "cell_type": "code",
   "execution_count": 108,
   "outputs": [
    {
     "name": "stderr",
     "output_type": "stream",
     "text": [
      "C:\\Users\\denok\\AppData\\Local\\Temp\\ipykernel_19500\\3190690250.py:9: DtypeWarning: Columns (3) have mixed types. Specify dtype option on import or set low_memory=False.\n",
      "  books=pd.read_csv(\"BX-Books.csv.gz\")\n"
     ]
    }
   ],
   "source": [
    "# books = pd.read_csv('https://raw.githubusercontent.com/vadim0912/MLIntro2022_Spring/main/lecture09/HW/BX-Books.csv')\n",
    "#\n",
    "# interactions = pd.read_csv('https://raw.githubusercontent.com/vadim0912/MLIntro2022_Spring/main/lecture09/HW/BX-Book-Ratings.csv',\n",
    "#                            sep=\";\", encoding = \"ISO-8859-1\")\n",
    "#\n",
    "# users = pd.read_csv('https://raw.githubusercontent.com/vadim0912/MLIntro2022_Spring/main/lecture09/HW/BX-Users.csv',\n",
    "#                     delimiter=';', encoding = 'ISO-8859-1')\n",
    "\n",
    "books=pd.read_csv(\"BX-Books.csv.gz\")\n",
    "interactions=pd.read_csv(\"BX-Book-Ratings.csv.gz\", sep=\";\", encoding = \"ISO-8859-1\")\n",
    "users=pd.read_csv(\"BX-Users.csv.gz\",sep=\";\",encoding=\"ISO-8859-1\")"
   ],
   "metadata": {
    "collapsed": false
   }
  },
  {
   "cell_type": "code",
   "execution_count": 109,
   "outputs": [],
   "source": [
    "interactions = interactions[interactions[\"Book-Rating\"] != 0]"
   ],
   "metadata": {
    "collapsed": false
   }
  },
  {
   "cell_type": "code",
   "execution_count": 110,
   "outputs": [
    {
     "data": {
      "text/plain": "   User-ID        ISBN  Book-Rating\n1   276726  0155061224            5\n3   276729  052165615X            3\n4   276729  0521795028            6\n6   276736  3257224281            8\n7   276737  0600570967            6",
      "text/html": "<div>\n<style scoped>\n    .dataframe tbody tr th:only-of-type {\n        vertical-align: middle;\n    }\n\n    .dataframe tbody tr th {\n        vertical-align: top;\n    }\n\n    .dataframe thead th {\n        text-align: right;\n    }\n</style>\n<table border=\"1\" class=\"dataframe\">\n  <thead>\n    <tr style=\"text-align: right;\">\n      <th></th>\n      <th>User-ID</th>\n      <th>ISBN</th>\n      <th>Book-Rating</th>\n    </tr>\n  </thead>\n  <tbody>\n    <tr>\n      <th>1</th>\n      <td>276726</td>\n      <td>0155061224</td>\n      <td>5</td>\n    </tr>\n    <tr>\n      <th>3</th>\n      <td>276729</td>\n      <td>052165615X</td>\n      <td>3</td>\n    </tr>\n    <tr>\n      <th>4</th>\n      <td>276729</td>\n      <td>0521795028</td>\n      <td>6</td>\n    </tr>\n    <tr>\n      <th>6</th>\n      <td>276736</td>\n      <td>3257224281</td>\n      <td>8</td>\n    </tr>\n    <tr>\n      <th>7</th>\n      <td>276737</td>\n      <td>0600570967</td>\n      <td>6</td>\n    </tr>\n  </tbody>\n</table>\n</div>"
     },
     "execution_count": 110,
     "metadata": {},
     "output_type": "execute_result"
    }
   ],
   "source": [
    "interactions.head()"
   ],
   "metadata": {
    "collapsed": false
   }
  },
  {
   "cell_type": "code",
   "execution_count": 111,
   "outputs": [
    {
     "data": {
      "text/plain": "         ISBN                                         Book-Title  \\\n0  0195153448                                Classical Mythology   \n1  0002005018                                       Clara Callan   \n2  0060973129                               Decision in Normandy   \n3  0374157065  Flu: The Story of the Great Influenza Pandemic...   \n4  0393045218                             The Mummies of Urumchi   \n\n            Book-Author Year-Of-Publication                   Publisher  \\\n0    Mark P. O. Morford                2002     Oxford University Press   \n1  Richard Bruce Wright                2001       HarperFlamingo Canada   \n2          Carlo D'Este                1991             HarperPerennial   \n3      Gina Bari Kolata                1999        Farrar Straus Giroux   \n4       E. J. W. Barber                1999  W. W. Norton &amp; Company   \n\n                                         Image-URL-S  \\\n0  http://images.amazon.com/images/P/0195153448.0...   \n1  http://images.amazon.com/images/P/0002005018.0...   \n2  http://images.amazon.com/images/P/0060973129.0...   \n3  http://images.amazon.com/images/P/0374157065.0...   \n4  http://images.amazon.com/images/P/0393045218.0...   \n\n                                         Image-URL-M  \\\n0  http://images.amazon.com/images/P/0195153448.0...   \n1  http://images.amazon.com/images/P/0002005018.0...   \n2  http://images.amazon.com/images/P/0060973129.0...   \n3  http://images.amazon.com/images/P/0374157065.0...   \n4  http://images.amazon.com/images/P/0393045218.0...   \n\n                                         Image-URL-L  \n0  http://images.amazon.com/images/P/0195153448.0...  \n1  http://images.amazon.com/images/P/0002005018.0...  \n2  http://images.amazon.com/images/P/0060973129.0...  \n3  http://images.amazon.com/images/P/0374157065.0...  \n4  http://images.amazon.com/images/P/0393045218.0...  ",
      "text/html": "<div>\n<style scoped>\n    .dataframe tbody tr th:only-of-type {\n        vertical-align: middle;\n    }\n\n    .dataframe tbody tr th {\n        vertical-align: top;\n    }\n\n    .dataframe thead th {\n        text-align: right;\n    }\n</style>\n<table border=\"1\" class=\"dataframe\">\n  <thead>\n    <tr style=\"text-align: right;\">\n      <th></th>\n      <th>ISBN</th>\n      <th>Book-Title</th>\n      <th>Book-Author</th>\n      <th>Year-Of-Publication</th>\n      <th>Publisher</th>\n      <th>Image-URL-S</th>\n      <th>Image-URL-M</th>\n      <th>Image-URL-L</th>\n    </tr>\n  </thead>\n  <tbody>\n    <tr>\n      <th>0</th>\n      <td>0195153448</td>\n      <td>Classical Mythology</td>\n      <td>Mark P. O. Morford</td>\n      <td>2002</td>\n      <td>Oxford University Press</td>\n      <td>http://images.amazon.com/images/P/0195153448.0...</td>\n      <td>http://images.amazon.com/images/P/0195153448.0...</td>\n      <td>http://images.amazon.com/images/P/0195153448.0...</td>\n    </tr>\n    <tr>\n      <th>1</th>\n      <td>0002005018</td>\n      <td>Clara Callan</td>\n      <td>Richard Bruce Wright</td>\n      <td>2001</td>\n      <td>HarperFlamingo Canada</td>\n      <td>http://images.amazon.com/images/P/0002005018.0...</td>\n      <td>http://images.amazon.com/images/P/0002005018.0...</td>\n      <td>http://images.amazon.com/images/P/0002005018.0...</td>\n    </tr>\n    <tr>\n      <th>2</th>\n      <td>0060973129</td>\n      <td>Decision in Normandy</td>\n      <td>Carlo D'Este</td>\n      <td>1991</td>\n      <td>HarperPerennial</td>\n      <td>http://images.amazon.com/images/P/0060973129.0...</td>\n      <td>http://images.amazon.com/images/P/0060973129.0...</td>\n      <td>http://images.amazon.com/images/P/0060973129.0...</td>\n    </tr>\n    <tr>\n      <th>3</th>\n      <td>0374157065</td>\n      <td>Flu: The Story of the Great Influenza Pandemic...</td>\n      <td>Gina Bari Kolata</td>\n      <td>1999</td>\n      <td>Farrar Straus Giroux</td>\n      <td>http://images.amazon.com/images/P/0374157065.0...</td>\n      <td>http://images.amazon.com/images/P/0374157065.0...</td>\n      <td>http://images.amazon.com/images/P/0374157065.0...</td>\n    </tr>\n    <tr>\n      <th>4</th>\n      <td>0393045218</td>\n      <td>The Mummies of Urumchi</td>\n      <td>E. J. W. Barber</td>\n      <td>1999</td>\n      <td>W. W. Norton &amp;amp; Company</td>\n      <td>http://images.amazon.com/images/P/0393045218.0...</td>\n      <td>http://images.amazon.com/images/P/0393045218.0...</td>\n      <td>http://images.amazon.com/images/P/0393045218.0...</td>\n    </tr>\n  </tbody>\n</table>\n</div>"
     },
     "execution_count": 111,
     "metadata": {},
     "output_type": "execute_result"
    }
   ],
   "source": [
    "books.head()"
   ],
   "metadata": {
    "collapsed": false
   }
  },
  {
   "cell_type": "code",
   "execution_count": 112,
   "outputs": [],
   "source": [
    "books_meets = interactions.groupby(\"ISBN\")[\"User-ID\"].count().reset_index().rename(columns={\"User-ID\": \"user_num\"})"
   ],
   "metadata": {
    "collapsed": false
   }
  },
  {
   "cell_type": "code",
   "execution_count": 113,
   "outputs": [],
   "source": [
    "user_meets = interactions.groupby(\"User-ID\")[\"ISBN\"].count().reset_index().rename(columns={\"ISBN\": \"books_num\"})"
   ],
   "metadata": {
    "collapsed": false
   }
  },
  {
   "cell_type": "code",
   "execution_count": 114,
   "outputs": [],
   "source": [
    "interactions = interactions.merge(books_meets, on=[\"ISBN\"]).merge(user_meets, on=[\"User-ID\"])"
   ],
   "metadata": {
    "collapsed": false
   }
  },
  {
   "cell_type": "code",
   "execution_count": 115,
   "outputs": [],
   "source": [
    "interactions = interactions[(interactions[\"user_num\"] > 5) &\n",
    "                            (interactions[\"books_num\"] > 5) &\n",
    "                            (interactions[\"books_num\"] < 200)]"
   ],
   "metadata": {
    "collapsed": false
   }
  },
  {
   "cell_type": "code",
   "execution_count": 116,
   "outputs": [],
   "source": [
    "interactions = interactions.merge(books[[\"ISBN\", \"Image-URL-M\", \"Book-Title\"]].rename(\n",
    "    columns={\"Image-URL-M\": \"picture_url\"}), on=[\"ISBN\"])"
   ],
   "metadata": {
    "collapsed": false
   }
  },
  {
   "cell_type": "code",
   "execution_count": 117,
   "outputs": [],
   "source": [
    "from sklearn import preprocessing\n",
    "\n",
    "le = preprocessing.LabelEncoder()"
   ],
   "metadata": {
    "collapsed": false
   }
  },
  {
   "cell_type": "code",
   "execution_count": 118,
   "outputs": [],
   "source": [
    "interactions[\"product_id\"] = le.fit_transform(interactions[\"ISBN\"])\n",
    "interactions[\"vid\"] = le.fit_transform(interactions[\"User-ID\"])"
   ],
   "metadata": {
    "collapsed": false
   }
  },
  {
   "cell_type": "code",
   "execution_count": 119,
   "outputs": [
    {
     "data": {
      "text/plain": "   User-ID        ISBN  Book-Rating  user_num  books_num  \\\n0    86583  3404139178            9         8         18   \n1   132500  3404139178           10         8         43   \n2    66483  3404139178           10         8         83   \n3   276866  3404139178            9         8         11   \n4   106534  3404139178            6         8          6   \n\n                                         picture_url  \\\n0  http://images.amazon.com/images/P/3404139178.0...   \n1  http://images.amazon.com/images/P/3404139178.0...   \n2  http://images.amazon.com/images/P/3404139178.0...   \n3  http://images.amazon.com/images/P/3404139178.0...   \n4  http://images.amazon.com/images/P/3404139178.0...   \n\n                                    Book-Title  product_id    vid  \n0  Das Lacheln der Fortuna: Historischer Roman       10397   3445  \n1  Das Lacheln der Fortuna: Historischer Roman       10397   5248  \n2  Das Lacheln der Fortuna: Historischer Roman       10397   2622  \n3  Das Lacheln der Fortuna: Historischer Roman       10397  10887  \n4  Das Lacheln der Fortuna: Historischer Roman       10397   4228  ",
      "text/html": "<div>\n<style scoped>\n    .dataframe tbody tr th:only-of-type {\n        vertical-align: middle;\n    }\n\n    .dataframe tbody tr th {\n        vertical-align: top;\n    }\n\n    .dataframe thead th {\n        text-align: right;\n    }\n</style>\n<table border=\"1\" class=\"dataframe\">\n  <thead>\n    <tr style=\"text-align: right;\">\n      <th></th>\n      <th>User-ID</th>\n      <th>ISBN</th>\n      <th>Book-Rating</th>\n      <th>user_num</th>\n      <th>books_num</th>\n      <th>picture_url</th>\n      <th>Book-Title</th>\n      <th>product_id</th>\n      <th>vid</th>\n    </tr>\n  </thead>\n  <tbody>\n    <tr>\n      <th>0</th>\n      <td>86583</td>\n      <td>3404139178</td>\n      <td>9</td>\n      <td>8</td>\n      <td>18</td>\n      <td>http://images.amazon.com/images/P/3404139178.0...</td>\n      <td>Das Lacheln der Fortuna: Historischer Roman</td>\n      <td>10397</td>\n      <td>3445</td>\n    </tr>\n    <tr>\n      <th>1</th>\n      <td>132500</td>\n      <td>3404139178</td>\n      <td>10</td>\n      <td>8</td>\n      <td>43</td>\n      <td>http://images.amazon.com/images/P/3404139178.0...</td>\n      <td>Das Lacheln der Fortuna: Historischer Roman</td>\n      <td>10397</td>\n      <td>5248</td>\n    </tr>\n    <tr>\n      <th>2</th>\n      <td>66483</td>\n      <td>3404139178</td>\n      <td>10</td>\n      <td>8</td>\n      <td>83</td>\n      <td>http://images.amazon.com/images/P/3404139178.0...</td>\n      <td>Das Lacheln der Fortuna: Historischer Roman</td>\n      <td>10397</td>\n      <td>2622</td>\n    </tr>\n    <tr>\n      <th>3</th>\n      <td>276866</td>\n      <td>3404139178</td>\n      <td>9</td>\n      <td>8</td>\n      <td>11</td>\n      <td>http://images.amazon.com/images/P/3404139178.0...</td>\n      <td>Das Lacheln der Fortuna: Historischer Roman</td>\n      <td>10397</td>\n      <td>10887</td>\n    </tr>\n    <tr>\n      <th>4</th>\n      <td>106534</td>\n      <td>3404139178</td>\n      <td>6</td>\n      <td>8</td>\n      <td>6</td>\n      <td>http://images.amazon.com/images/P/3404139178.0...</td>\n      <td>Das Lacheln der Fortuna: Historischer Roman</td>\n      <td>10397</td>\n      <td>4228</td>\n    </tr>\n  </tbody>\n</table>\n</div>"
     },
     "execution_count": 119,
     "metadata": {},
     "output_type": "execute_result"
    }
   ],
   "source": [
    "interactions.head()"
   ],
   "metadata": {
    "collapsed": false
   }
  },
  {
   "cell_type": "code",
   "execution_count": 120,
   "outputs": [
    {
     "data": {
      "text/plain": "   User-ID                            Location   Age\n0        1                  nyc, new york, usa   NaN\n1        2           stockton, california, usa  18.0\n2        3     moscow, yukon territory, russia   NaN\n3        4           porto, v.n.gaia, portugal  17.0\n4        5  farnborough, hants, united kingdom   NaN",
      "text/html": "<div>\n<style scoped>\n    .dataframe tbody tr th:only-of-type {\n        vertical-align: middle;\n    }\n\n    .dataframe tbody tr th {\n        vertical-align: top;\n    }\n\n    .dataframe thead th {\n        text-align: right;\n    }\n</style>\n<table border=\"1\" class=\"dataframe\">\n  <thead>\n    <tr style=\"text-align: right;\">\n      <th></th>\n      <th>User-ID</th>\n      <th>Location</th>\n      <th>Age</th>\n    </tr>\n  </thead>\n  <tbody>\n    <tr>\n      <th>0</th>\n      <td>1</td>\n      <td>nyc, new york, usa</td>\n      <td>NaN</td>\n    </tr>\n    <tr>\n      <th>1</th>\n      <td>2</td>\n      <td>stockton, california, usa</td>\n      <td>18.0</td>\n    </tr>\n    <tr>\n      <th>2</th>\n      <td>3</td>\n      <td>moscow, yukon territory, russia</td>\n      <td>NaN</td>\n    </tr>\n    <tr>\n      <th>3</th>\n      <td>4</td>\n      <td>porto, v.n.gaia, portugal</td>\n      <td>17.0</td>\n    </tr>\n    <tr>\n      <th>4</th>\n      <td>5</td>\n      <td>farnborough, hants, united kingdom</td>\n      <td>NaN</td>\n    </tr>\n  </tbody>\n</table>\n</div>"
     },
     "execution_count": 120,
     "metadata": {},
     "output_type": "execute_result"
    }
   ],
   "source": [
    "users.head()"
   ],
   "metadata": {
    "collapsed": false
   }
  },
  {
   "cell_type": "code",
   "execution_count": 120,
   "outputs": [],
   "source": [
    "\n"
   ],
   "metadata": {
    "collapsed": false
   }
  },
  {
   "cell_type": "code",
   "execution_count": 120,
   "outputs": [],
   "source": [],
   "metadata": {
    "collapsed": false
   }
  },
  {
   "cell_type": "code",
   "execution_count": 120,
   "outputs": [],
   "source": [],
   "metadata": {
    "collapsed": false
   }
  },
  {
   "cell_type": "code",
   "execution_count": 120,
   "outputs": [],
   "source": [],
   "metadata": {
    "collapsed": false
   }
  },
  {
   "cell_type": "code",
   "execution_count": 120,
   "outputs": [],
   "source": [],
   "metadata": {
    "collapsed": false
   }
  },
  {
   "cell_type": "code",
   "execution_count": 121,
   "outputs": [],
   "source": [
    "csr_rates = coo_matrix((interactions[\"Book-Rating\"], (interactions[\"vid\"], interactions[\"product_id\"])),\n",
    "                            shape=(len(set(interactions[\"vid\"])), len(set(interactions[\"product_id\"]))))"
   ],
   "metadata": {
    "collapsed": false
   }
  },
  {
   "cell_type": "code",
   "execution_count": 122,
   "outputs": [
    {
     "name": "stdout",
     "output_type": "stream",
     "text": [
      "idx: 10174 \tBook Title: David Copperfield (Wordsworth Classics)\n",
      "idx: 1074 \tBook Title: David Copperfield (Penguin Classics)\n"
     ]
    }
   ],
   "source": [
    "for i, j in interactions[[\"product_id\", \"Book-Title\"]].drop_duplicates().values:\n",
    "    if \"David Copperfield\" in j:\n",
    "        print(\"idx:\", i, \"\\tBook Title:\", j)"
   ],
   "metadata": {
    "collapsed": false
   }
  },
  {
   "cell_type": "markdown",
   "source": [],
   "metadata": {
    "collapsed": false
   }
  },
  {
   "cell_type": "markdown",
   "source": [
    "### 1) Персональный топ"
   ],
   "metadata": {
    "collapsed": false
   }
  },
  {
   "cell_type": "code",
   "execution_count": 123,
   "outputs": [],
   "source": [
    "def chunks(l, n):\n",
    "    for i in range(0, len(l), n):\n",
    "        yield l[i:i + n]"
   ],
   "metadata": {
    "collapsed": false
   }
  },
  {
   "cell_type": "code",
   "execution_count": 124,
   "outputs": [],
   "source": [
    "class person_top():\n",
    "    def __init__(self, users, interactions, Age = None, location = None):\n",
    "        self.users = users.copy()\n",
    "        self.interactions = interactions.copy()\n",
    "        self.Age = Age\n",
    "        self.city = location.split(sep = ',')[0]\n",
    "        self.state = location.split(sep = ',')[1]\n",
    "        self.country = location.split(sep = ',')[2]\n",
    "        self.users['measure'] = np.zeros_like(self.users.Location.values)\n",
    "\n",
    "        # штраф за разные города\n",
    "        self.users.measure += 1 * (self.users.Location.str.split(pat=',', expand=True)[0] != self.city).values\n",
    "\n",
    "        # штраф за разные штаты\n",
    "        self.users.measure += 2 * (self.users.Location.str.split(pat=',', expand=True)[1] != self.state).values\n",
    "\n",
    "        # штраф за разные страны\n",
    "        self.users.measure += 3 * (self.users.Location.str.split(pat=',', expand=True)[2] != self.country).values\n",
    "\n",
    "        if self.Age is not None:\n",
    "            # штраф за разницу в возрасте\n",
    "            self.users.measure[self.users.Age.notna().values] +=\\\n",
    "                                           np.abs(self.users.Age.values[self.users.Age.notna().values] - self.Age)\n",
    "            self.users.measure[self.users.Age.isna().values] +=\\\n",
    "                                                            self.users.Age[self.users.Age.notna().values].median()\n",
    "        self.users['weights'] = self.users.sort_values('measure').index.to_numpy()\n",
    "\n",
    "        # чем более похожий читатель, тем больше вес\n",
    "        self.interactions['weights'] = 1 / (self.users.iloc[interactions['User-ID'].values].weights.values + 100)\n",
    "        self.interactions['Book-Rating'] -= 5\n",
    "        self.interactions['rating_new'] = self.interactions.weights.values *\\\n",
    "                                          self.interactions['Book-Rating'].values\n",
    "\n",
    "        info = self.interactions[{'ISBN', 'picture_url', 'Book-Title', 'product_id'}].drop_duplicates('product_id')\n",
    "\n",
    "        rating = self.interactions.groupby('product_id')['rating_new'].sum()\n",
    "\n",
    "        # книги с рейтингом\n",
    "        self.library = info.merge(rating, on = ['product_id']).sort_values('rating_new', ascending=False)\n",
    "\n",
    "\n",
    "    def get_rec(self, top=30):\n",
    "        for idx, chunk in enumerate(chunks(self.library['picture_url'].values[:top], 5)):\n",
    "            fig = plt.figure(figsize=(20, 4))\n",
    "            for n, i in enumerate(chunk):\n",
    "                try:\n",
    "                    r = requests.get(i)\n",
    "                    im = Image.open(BytesIO(r.content))\n",
    "                except:\n",
    "                    print('Something went wrong with {url}'.format(url=i))\n",
    "                    continue\n",
    "                a = fig.add_subplot(1, 5, n+1)\n",
    "                plt.imshow(im)\n",
    "                plt.axis('off')\n",
    "            plt.show()"
   ],
   "metadata": {
    "collapsed": false
   }
  },
  {
   "cell_type": "code",
   "execution_count": 125,
   "outputs": [
    {
     "name": "stderr",
     "output_type": "stream",
     "text": [
      "C:\\Users\\denok\\AppData\\Local\\Temp\\ipykernel_19500\\1740273023.py:22: SettingWithCopyWarning: \n",
      "A value is trying to be set on a copy of a slice from a DataFrame\n",
      "\n",
      "See the caveats in the documentation: https://pandas.pydata.org/pandas-docs/stable/user_guide/indexing.html#returning-a-view-versus-a-copy\n",
      "  self.users.measure[self.users.Age.notna().values] +=\\\n",
      "C:\\Users\\denok\\AppData\\Local\\Temp\\ipykernel_19500\\1740273023.py:24: SettingWithCopyWarning: \n",
      "A value is trying to be set on a copy of a slice from a DataFrame\n",
      "\n",
      "See the caveats in the documentation: https://pandas.pydata.org/pandas-docs/stable/user_guide/indexing.html#returning-a-view-versus-a-copy\n",
      "  self.users.measure[self.users.Age.isna().values] +=\\\n",
      "C:\\Users\\denok\\AppData\\Local\\Temp\\ipykernel_19500\\1740273023.py:34: FutureWarning: Passing a set as an indexer is deprecated and will raise in a future version. Use a list instead.\n",
      "  info = self.interactions[{'ISBN', 'picture_url', 'Book-Title', 'product_id'}].drop_duplicates('product_id')\n"
     ]
    }
   ],
   "source": [
    "person = person_top(users=users, interactions=interactions, Age=10, location='nyc, new york, usa')"
   ],
   "metadata": {
    "collapsed": false
   }
  },
  {
   "cell_type": "code",
   "execution_count": 126,
   "outputs": [
    {
     "name": "stdout",
     "output_type": "stream",
     "text": [
      "Something went wrong with http://images.amazon.com/images/P/0345313860.01.MZZZZZZZ.jpg\n",
      "Something went wrong with http://images.amazon.com/images/P/043935806X.01.MZZZZZZZ.jpg\n",
      "Something went wrong with http://images.amazon.com/images/P/0439136350.01.MZZZZZZZ.jpg\n",
      "Something went wrong with http://images.amazon.com/images/P/0441735762.01.MZZZZZZZ.jpg\n",
      "Something went wrong with http://images.amazon.com/images/P/0812513738.01.MZZZZZZZ.jpg\n"
     ]
    },
    {
     "data": {
      "text/plain": "<Figure size 2000x400 with 0 Axes>"
     },
     "metadata": {},
     "output_type": "display_data"
    },
    {
     "name": "stdout",
     "output_type": "stream",
     "text": [
      "Something went wrong with http://images.amazon.com/images/P/0060248025.01.MZZZZZZZ.jpg\n",
      "Something went wrong with http://images.amazon.com/images/P/0812511816.01.MZZZZZZZ.jpg\n",
      "Something went wrong with http://images.amazon.com/images/P/0812517725.01.MZZZZZZZ.jpg\n",
      "Something went wrong with http://images.amazon.com/images/P/0345335082.01.MZZZZZZZ.jpg\n",
      "Something went wrong with http://images.amazon.com/images/P/0345253736.01.MZZZZZZZ.jpg\n"
     ]
    },
    {
     "data": {
      "text/plain": "<Figure size 2000x400 with 0 Axes>"
     },
     "metadata": {},
     "output_type": "display_data"
    }
   ],
   "source": [
    "person.get_rec(top=10)"
   ],
   "metadata": {
    "collapsed": false
   }
  },
  {
   "cell_type": "code",
   "execution_count": 126,
   "outputs": [],
   "source": [],
   "metadata": {
    "collapsed": false
   }
  },
  {
   "cell_type": "code",
   "execution_count": 126,
   "outputs": [],
   "source": [],
   "metadata": {
    "collapsed": false
   }
  }
 ],
 "metadata": {
  "kernelspec": {
   "display_name": "Python 3",
   "language": "python",
   "name": "python3"
  },
  "language_info": {
   "codemirror_mode": {
    "name": "ipython",
    "version": 2
   },
   "file_extension": ".py",
   "mimetype": "text/x-python",
   "name": "python",
   "nbconvert_exporter": "python",
   "pygments_lexer": "ipython2",
   "version": "2.7.6"
  }
 },
 "nbformat": 4,
 "nbformat_minor": 0
}

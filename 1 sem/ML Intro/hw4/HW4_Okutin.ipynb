{
 "nbformat": 4,
 "nbformat_minor": 0,
 "metadata": {
  "anaconda-cloud": {},
  "kernelspec": {
   "display_name": "Python 3",
   "language": "python",
   "name": "python3"
  },
  "language_info": {
   "codemirror_mode": {
    "name": "ipython",
    "version": 3
   },
   "file_extension": ".py",
   "mimetype": "text/x-python",
   "name": "python",
   "nbconvert_exporter": "python",
   "pygments_lexer": "ipython3",
   "version": "3.6.9"
  },
  "toc": {
   "base_numbering": 1,
   "nav_menu": {
    "height": "216px",
    "width": "252px"
   },
   "number_sections": true,
   "sideBar": true,
   "skip_h1_title": false,
   "title_cell": "Table of Contents",
   "title_sidebar": "Contents",
   "toc_cell": false,
   "toc_position": {
    "height": "830.8px",
    "left": "121px",
    "top": "66.2px",
    "width": "185.3px"
   },
   "toc_section_display": true,
   "toc_window_display": true
  },
  "colab": {
   "name": "hw-unsupervised.ipynb",
   "provenance": [],
   "collapsed_sections": []
  }
 },
 "cells": [
  {
   "cell_type": "markdown",
   "metadata": {
    "id": "0_-gS3v-_23e"
   },
   "source": [
    "Беспалова Ульяна\n",
    "Группа ML-11\n",
    "\n",
    "Тот же файлик на Гитхабе: "
   ]
  },
  {
   "cell_type": "code",
   "metadata": {
    "colab": {
     "base_uri": "https://localhost:8080/"
    },
    "id": "3tiDpmKpMT3L",
    "executionInfo": {
     "status": "ok",
     "timestamp": 1637411502400,
     "user_tz": -180,
     "elapsed": 303,
     "user": {
      "displayName": "U _Bespalova",
      "photoUrl": "https://lh3.googleusercontent.com/a/default-user=s64",
      "userId": "08551389976769628918"
     }
    },
    "outputId": "122e8891-c4e1-40ea-a7f2-3e35478067ac"
   },
   "source": [
    "from google.colab import drive\n",
    "drive.mount(\"/content/drive/\")"
   ],
   "execution_count": 1,
   "outputs": [
    {
     "ename": "ModuleNotFoundError",
     "evalue": "No module named 'google'",
     "output_type": "error",
     "traceback": [
      "\u001B[1;31m---------------------------------------------------------------------------\u001B[0m",
      "\u001B[1;31mModuleNotFoundError\u001B[0m                       Traceback (most recent call last)",
      "Cell \u001B[1;32mIn[1], line 1\u001B[0m\n\u001B[1;32m----> 1\u001B[0m \u001B[38;5;28;01mfrom\u001B[39;00m \u001B[38;5;21;01mgoogle\u001B[39;00m\u001B[38;5;21;01m.\u001B[39;00m\u001B[38;5;21;01mcolab\u001B[39;00m \u001B[38;5;28;01mimport\u001B[39;00m drive\n\u001B[0;32m      2\u001B[0m drive\u001B[38;5;241m.\u001B[39mmount(\u001B[38;5;124m\"\u001B[39m\u001B[38;5;124m/content/drive/\u001B[39m\u001B[38;5;124m\"\u001B[39m)\n",
      "\u001B[1;31mModuleNotFoundError\u001B[0m: No module named 'google'"
     ]
    }
   ]
  },
  {
   "cell_type": "code",
   "metadata": {
    "id": "xuCrHFMPL-yI"
   },
   "source": [
    "%matplotlib inline"
   ],
   "execution_count": null,
   "outputs": []
  },
  {
   "cell_type": "code",
   "metadata": {
    "id": "gWPnByMML-yU"
   },
   "source": [
    "import pandas as pd\n",
    "import matplotlib.pyplot as plt\n",
    "import numpy as np\n",
    "\n",
    "plt.style.use('seaborn-talk')\n",
    "plt.rcParams['figure.figsize'] = (15,10)"
   ],
   "execution_count": null,
   "outputs": []
  },
  {
   "cell_type": "markdown",
   "metadata": {
    "id": "n2Tj7VKSL-yc"
   },
   "source": [
    "# Задача про датчики на руках"
   ]
  },
  {
   "cell_type": "markdown",
   "metadata": {
    "id": "c2G6TKb6L-yf"
   },
   "source": [
    "В этом задании мы применим метод главных компонент на многомерных данных и постараемся найти оптимальную размерность признаков для решения задачи классификации"
   ]
  },
  {
   "cell_type": "markdown",
   "metadata": {
    "id": "M8Szh71cL-yi"
   },
   "source": [
    "Исходными [данными](http://archive.ics.uci.edu/ml/machine-learning-databases/auslan2-mld/auslan.data.html) являются показания различных сенсоров, установленных на руках человека, который умеет общаться на языке жестов.\n",
    "\n",
    "В данном случае задача ставится следующим образом: по показаниям датчиков (по 11 сенсоров на каждую руку) определить слово, которое было показано человеком.\n",
    "\n",
    "Как можно решать такую задачу?\n",
    "\n",
    "Показания датчиков представляются в виде временных рядов. Посмотрим на показания для одного из \"слов\""
   ]
  },
  {
   "cell_type": "code",
   "metadata": {
    "id": "3RE6yVAOL-yp"
   },
   "source": [
    "# Загружаем данные сенсоров\n",
    "df_database = pd.read_csv('./drive/MyDrive/Colab_Notebooks/Technopark_ML/dz_4/data/sign_database.csv')\n",
    "\n",
    "# Загружаем метки классов\n",
    "sign_classes = pd.read_csv('./drive/MyDrive/Colab_Notebooks/Technopark_ML/dz_4/data/sign_classes.csv', index_col=0, header=0, names=['id', 'class'])"
   ],
   "execution_count": null,
   "outputs": []
  },
  {
   "cell_type": "code",
   "metadata": {
    "colab": {
     "base_uri": "https://localhost:8080/",
     "height": 226
    },
    "id": "cmfyEtkRL-yw",
    "executionInfo": {
     "status": "ok",
     "timestamp": 1637388547394,
     "user_tz": -180,
     "elapsed": 41,
     "user": {
      "displayName": "U _Bespalova",
      "photoUrl": "https://lh3.googleusercontent.com/a/default-user=s64",
      "userId": "08551389976769628918"
     }
    },
    "outputId": "5292b179-ce4d-430b-804a-2481f242824d"
   },
   "source": [
    "# Столбец id - идентификаторы \"слов\"\n",
    "# Столбец time - метка времени\n",
    "# Остальные столбцы - показания серсоров для слова id в момент времени time\n",
    "\n",
    "df_database.head()"
   ],
   "execution_count": null,
   "outputs": []
  },
  {
   "cell_type": "code",
   "metadata": {
    "colab": {
     "base_uri": "https://localhost:8080/",
     "height": 238
    },
    "id": "Mgzdi95DL-zK",
    "executionInfo": {
     "status": "ok",
     "timestamp": 1637388547910,
     "user_tz": -180,
     "elapsed": 18,
     "user": {
      "displayName": "U _Bespalova",
      "photoUrl": "https://lh3.googleusercontent.com/a/default-user=s64",
      "userId": "08551389976769628918"
     }
    },
    "outputId": "a782342d-11f9-49ca-9d12-eab9d42df08a"
   },
   "source": [
    "sign_classes.head()"
   ],
   "execution_count": null,
   "outputs": []
  },
  {
   "cell_type": "code",
   "metadata": {
    "id": "Tw0px6rQL-zW"
   },
   "source": [
    "# Выберем одно из слов с идентификатором = 0\n",
    "sign0 = df_database.query('id == 0')\\\n",
    "                   .drop(['id'], axis=1)\\\n",
    "                   .set_index('time')"
   ],
   "execution_count": null,
   "outputs": []
  },
  {
   "cell_type": "code",
   "metadata": {
    "colab": {
     "base_uri": "https://localhost:8080/",
     "height": 635
    },
    "id": "1EFWDX6OL-ze",
    "executionInfo": {
     "status": "ok",
     "timestamp": 1637388556525,
     "user_tz": -180,
     "elapsed": 822,
     "user": {
      "displayName": "U _Bespalova",
      "photoUrl": "https://lh3.googleusercontent.com/a/default-user=s64",
      "userId": "08551389976769628918"
     }
    },
    "outputId": "c650cf75-8f01-412a-c77c-ba1478660432"
   },
   "source": [
    "sign0.plot()"
   ],
   "execution_count": null,
   "outputs": []
  },
  {
   "cell_type": "markdown",
   "metadata": {
    "id": "a5C-CtZuL-zi"
   },
   "source": [
    "Для каждого из \"слов\" у нас есть набор показаний сенсоров с разных частей руки в каждый момент времени.\n",
    "\n",
    "Идея нашего подхода будет заключаться в следующем – давайте для каждого сенсора составим набор характеристик (например, разброс значений, максимальное, минимальное, среднее значение, количество \"пиков\", и т.п.) и будем использовать эти новые \"признаки\" для решения задачи классификации."
   ]
  },
  {
   "cell_type": "markdown",
   "metadata": {
    "id": "6GE-dxI_L-zl"
   },
   "source": [
    "## Расчет новых признаков"
   ]
  },
  {
   "cell_type": "markdown",
   "metadata": {
    "id": "vBuuqoyUL-zp"
   },
   "source": [
    "Признаки мы будем считать с помощью библиотеки [tsfresh](http://tsfresh.readthedocs.io/en/latest/index.html). Генерация новых признаков может занять много времени, поэтому мы сохранили посчитанные данные, но при желании вы можете повторить вычисления."
   ]
  },
  {
   "cell_type": "code",
   "metadata": {
    "id": "TaN-JG_7L-zs"
   },
   "source": [
    "from sklearn.preprocessing import LabelEncoder"
   ],
   "execution_count": null,
   "outputs": []
  },
  {
   "cell_type": "code",
   "metadata": {
    "id": "i8AVJKpPL-z9"
   },
   "source": [
    "# Если не хотите долго ждать - не убирайте комментарии\n",
    "# !pip install tsfresh\n",
    "\n",
    "\n",
    "# import tsfresh\n",
    "# from tsfresh.feature_extraction import extract_features\n",
    "# from tsfresh.feature_selection import select_features\n",
    "# from tsfresh.utilities.dataframe_functions import impute\n",
    "# from tsfresh.feature_extraction import ComprehensiveFCParameters, MinimalFCParameters, settings, EfficientFCParameters\n",
    "\n",
    "\n",
    "# sign_features = extract_features(df_database, column_id='id', column_sort='time',\n",
    "#                                  default_fc_parameters=EfficientFCParameters(),\n",
    "#                                  impute_function=impute)\n",
    "\n",
    "# enc = LabelEncoder()\n",
    "# enc.fit(sign_classes.loc[:, 'class'])\n",
    "# sign_classes.loc[:, 'target'] = enc.transform(sign_classes.loc[:, 'class'])\n",
    "\n",
    "# sign_features_filtered = select_features(sign_features, sign_classes.loc[:, 'target'])\n",
    "\n",
    "# filepath = './drive/MyDrive/Colab_Notebooks/Technopark_ML/dz_4/data/tsfresh_features_filt.csv.gz'\n",
    "# sign_features_filtered.to_csv(filepath, compression='gzip')"
   ],
   "execution_count": null,
   "outputs": []
  },
  {
   "cell_type": "code",
   "metadata": {
    "id": "A-Hpls3EL-0C"
   },
   "source": [
    "# !cd ./drive/MyDrive/Colab_Notebooks/Technopark_ML/dz_4/data\n",
    "# !wget https://www.dropbox.com/s/x6b9mqxlw5ijcuf/tsfresh_features_filt.csv.gz?dl=0 -O ./drive/MyDrive/Colab_Notebooks/Technopark_ML/dz_4/data/tsfresh_features_filt.csv.gz"
   ],
   "execution_count": null,
   "outputs": []
  },
  {
   "cell_type": "code",
   "metadata": {
    "id": "JqswV-yzVyHS"
   },
   "source": [
    "filepath = './drive/MyDrive/Colab_Notebooks/Technopark_ML/dz_4/data/tsfresh_features_filt.csv.gz'\n",
    "sign_features_filtered = pd.read_csv(filepath)"
   ],
   "execution_count": null,
   "outputs": []
  },
  {
   "cell_type": "code",
   "metadata": {
    "colab": {
     "base_uri": "https://localhost:8080/"
    },
    "id": "ua5BLv3kL-0F",
    "executionInfo": {
     "status": "ok",
     "timestamp": 1637388624364,
     "user_tz": -180,
     "elapsed": 298,
     "user": {
      "displayName": "U _Bespalova",
      "photoUrl": "https://lh3.googleusercontent.com/a/default-user=s64",
      "userId": "08551389976769628918"
     }
    },
    "outputId": "db054beb-0568-41ad-9541-f3126a9edf00"
   },
   "source": [
    "sign_features_filtered.shape"
   ],
   "execution_count": null,
   "outputs": []
  },
  {
   "cell_type": "code",
   "metadata": {
    "colab": {
     "base_uri": "https://localhost:8080/",
     "height": 273
    },
    "id": "Hj4vh-kVL-0I",
    "executionInfo": {
     "status": "ok",
     "timestamp": 1637388640554,
     "user_tz": -180,
     "elapsed": 295,
     "user": {
      "displayName": "U _Bespalova",
      "photoUrl": "https://lh3.googleusercontent.com/a/default-user=s64",
      "userId": "08551389976769628918"
     }
    },
    "outputId": "dccb47fd-b562-4fcd-b87a-ea3dc9fd36cb"
   },
   "source": [
    "sign_features_filtered.head()"
   ],
   "execution_count": null,
   "outputs": []
  },
  {
   "cell_type": "markdown",
   "metadata": {
    "id": "2CUYjYDwL-0M"
   },
   "source": [
    "## Базовая модель"
   ]
  },
  {
   "cell_type": "markdown",
   "metadata": {
    "id": "7NfUeWuyL-0P"
   },
   "source": [
    "В результате у нас получилось очень много признаков (11516 или больше), давайте применим метод главных компонент, чтобы получить сжатое признаковое представление, сохранив при этом предиктивную силу в модели."
   ]
  },
  {
   "cell_type": "code",
   "metadata": {
    "id": "TsH2OxjAL-0S"
   },
   "source": [
    "from sklearn.model_selection import cross_val_score\n",
    "from sklearn.model_selection import StratifiedKFold\n",
    "from sklearn.neighbors import KNeighborsClassifier\n",
    "from sklearn.decomposition import PCA\n",
    "from sklearn.preprocessing import StandardScaler\n",
    "from sklearn.pipeline import Pipeline"
   ],
   "execution_count": null,
   "outputs": []
  },
  {
   "cell_type": "markdown",
   "metadata": {
    "id": "N9tHM6b5L-0V"
   },
   "source": [
    "Создадим бейзлайн без уменьшения размерности. Гиперпараметры модели подбирались произвольно"
   ]
  },
  {
   "cell_type": "code",
   "metadata": {
    "id": "mH1ERhFfL-0X"
   },
   "source": [
    "from sklearn import preprocessing\n",
    "enc = preprocessing.LabelEncoder()\n",
    "enc.fit(sign_classes.loc[:, 'class'])\n",
    "sign_classes.loc[:, 'target'] = enc.transform(sign_classes.loc[:, 'class'])"
   ],
   "execution_count": null,
   "outputs": []
  },
  {
   "cell_type": "code",
   "metadata": {
    "id": "I6FXq2scL-0a"
   },
   "source": [
    "# Подготовим данные на вход в модель\n",
    "\n",
    "# признаки\n",
    "X = sign_features_filtered.values\n",
    "\n",
    "# классы\n",
    "y = sign_classes.target.values"
   ],
   "execution_count": null,
   "outputs": []
  },
  {
   "cell_type": "code",
   "metadata": {
    "id": "u3B-HH0XL-0c"
   },
   "source": [
    "# Будем делать кросс-валидацию на 5 фолдов\n",
    "cv = StratifiedKFold(n_splits=5, shuffle=True, random_state=123)\n",
    "\n",
    "base_model = Pipeline([\n",
    "    ('scaler', StandardScaler()),\n",
    "    ('clf', KNeighborsClassifier(n_neighbors=9))\n",
    "])\n",
    "\n",
    "base_cv_scores = cross_val_score(base_model, X, y, cv=cv, scoring='accuracy')"
   ],
   "execution_count": null,
   "outputs": []
  },
  {
   "cell_type": "code",
   "metadata": {
    "colab": {
     "base_uri": "https://localhost:8080/"
    },
    "id": "Ae6e0vMQL-0f",
    "executionInfo": {
     "status": "ok",
     "timestamp": 1637388662918,
     "user_tz": -180,
     "elapsed": 32,
     "user": {
      "displayName": "U _Bespalova",
      "photoUrl": "https://lh3.googleusercontent.com/a/default-user=s64",
      "userId": "08551389976769628918"
     }
    },
    "outputId": "8732a534-1df8-4ea4-9004-37ec690b7736"
   },
   "source": [
    "base_cv_scores.mean()"
   ],
   "execution_count": null,
   "outputs": []
  },
  {
   "cell_type": "markdown",
   "metadata": {
    "id": "yg144y5rL-0i"
   },
   "source": [
    "## Метод главных компонент (5 баллов)"
   ]
  },
  {
   "cell_type": "markdown",
   "metadata": {
    "id": "bd9yuA1kL-0j"
   },
   "source": [
    "* (1) Добавьте в пайплайн `base_model` шаг с методом главных компонент. Начиная с версии 0.18 в sklearn добавили разные солверы для PCA. Дополнитенльно задайте в модели следующие параметры: `svd_solder = \"randomized\"` и `random_state=123`. Остальные гиперпараметры модели и способ кросс-валидации оставьте без изменений\n",
    "* (1 + 2) Найдите такое наименьшее количество главных компонент, что качество нового пайплайна превыcит 90%. За +2 бала найдите решение не полным перебором (руками перебрать пару значений, тоже считается полным перебором). Можете считать, что функция зависимости качества от количества компонент монотонно неубывающая. \n",
    "* (1) Укажите долю объяснённой дисперсии при найденной настройке PCA  (для этого надо обучить PCA на всех данных). Долю объясненной дисперсии можно найти в атрибуте `explained_variance_ratio`"
   ]
  },
  {
   "cell_type": "code",
   "metadata": {
    "colab": {
     "base_uri": "https://localhost:8080/"
    },
    "id": "aGTiuhlTYejN",
    "executionInfo": {
     "status": "ok",
     "timestamp": 1637392368865,
     "user_tz": -180,
     "elapsed": 17343,
     "user": {
      "displayName": "U _Bespalova",
      "photoUrl": "https://lh3.googleusercontent.com/a/default-user=s64",
      "userId": "08551389976769628918"
     }
    },
    "outputId": "622e58d1-961f-4407-e3d7-c7fe3a92293c"
   },
   "source": [
    "# 1) Произвольное число компонент\n",
    "\n",
    "base_model_pca = Pipeline([\n",
    "    ('scaler', StandardScaler()),\n",
    "    ('pca', PCA(svd_solver=\"randomized\", random_state=123, n_components=10)),\n",
    "    ('clf', KNeighborsClassifier(n_neighbors=9))\n",
    "])\n",
    "\n",
    "base_cv_scores = cross_val_score(base_model_pca, X, y, cv=cv, scoring='accuracy')\n",
    "\n",
    "print('n_components=10: ', base_cv_scores.mean())"
   ],
   "execution_count": null,
   "outputs": []
  },
  {
   "cell_type": "code",
   "metadata": {
    "id": "oaW46sG0BOzp"
   },
   "source": [
    "# 2) Найдем минимальное n_components, для которого результат будет более 90%\n",
    "\n",
    "import matplotlib.pyplot as plt\n",
    "import seaborn as sns"
   ],
   "execution_count": null,
   "outputs": []
  },
  {
   "cell_type": "code",
   "metadata": {
    "id": "Ytpimd5_FHBQ"
   },
   "source": [
    "ss = StandardScaler()\n",
    "X_scaled = ss.fit_transform(X)"
   ],
   "execution_count": null,
   "outputs": []
  },
  {
   "cell_type": "code",
   "metadata": {
    "colab": {
     "base_uri": "https://localhost:8080/"
    },
    "id": "P75smt7vIe86",
    "executionInfo": {
     "status": "ok",
     "timestamp": 1637392379586,
     "user_tz": -180,
     "elapsed": 9410,
     "user": {
      "displayName": "U _Bespalova",
      "photoUrl": "https://lh3.googleusercontent.com/a/default-user=s64",
      "userId": "08551389976769628918"
     }
    },
    "outputId": "14493083-6a42-4e52-9e1e-93e574e671fe"
   },
   "source": [
    "pca = PCA(n_components=200)\n",
    "pca.fit(X_scaled)"
   ],
   "execution_count": null,
   "outputs": []
  },
  {
   "cell_type": "code",
   "metadata": {
    "colab": {
     "base_uri": "https://localhost:8080/",
     "height": 416
    },
    "id": "lAtY3wUPYeyM",
    "executionInfo": {
     "status": "ok",
     "timestamp": 1637392100182,
     "user_tz": -180,
     "elapsed": 1295,
     "user": {
      "displayName": "U _Bespalova",
      "photoUrl": "https://lh3.googleusercontent.com/a/default-user=s64",
      "userId": "08551389976769628918"
     }
    },
    "outputId": "61114aa4-99e7-41de-9b11-958d39613a8e"
   },
   "source": [
    "sns.set(style='whitegrid')\n",
    "fig, pl = plt.subplots()\n",
    "pl.plot(np.cumsum(pca.explained_variance_ratio_))\n",
    "plt.xlabel('n_components')\n",
    "plt.ylabel('Объясненная дисперсия')\n",
    "\n",
    "plt.axvline(linewidth=2, color='violet', linestyle = '--', x=80, ymin=0, ymax=1)\n",
    "fig.set_figwidth(8)\n",
    "fig.set_figheight(6)\n",
    "display(plt.show())\n",
    "\n",
    "# На графике видим, что объясненная дисперсия перестает значительно расти при n_components≈80. "
   ],
   "execution_count": null,
   "outputs": []
  },
  {
   "cell_type": "code",
   "metadata": {
    "colab": {
     "base_uri": "https://localhost:8080/"
    },
    "id": "32gQJ0L4FePn",
    "executionInfo": {
     "status": "ok",
     "timestamp": 1637392405607,
     "user_tz": -180,
     "elapsed": 26041,
     "user": {
      "displayName": "U _Bespalova",
      "photoUrl": "https://lh3.googleusercontent.com/a/default-user=s64",
      "userId": "08551389976769628918"
     }
    },
    "outputId": "ee47937c-c87f-46c3-c55d-9afc901108b3"
   },
   "source": [
    "base_model_pca = Pipeline([\n",
    "    ('scaler', StandardScaler()),\n",
    "    ('pca', PCA(svd_solver=\"randomized\", random_state=123, n_components=80)),\n",
    "    ('clf', KNeighborsClassifier(n_neighbors=9))\n",
    "])\n",
    "\n",
    "base_cv_scores = cross_val_score(base_model_pca, X, y, cv=cv, scoring='accuracy')\n",
    "\n",
    "print('n_components=80: ', base_cv_scores.mean())"
   ],
   "execution_count": null,
   "outputs": []
  },
  {
   "cell_type": "code",
   "metadata": {
    "colab": {
     "base_uri": "https://localhost:8080/",
     "height": 363
    },
    "id": "h0czsg3SA5wr",
    "executionInfo": {
     "status": "ok",
     "timestamp": 1637393168652,
     "user_tz": -180,
     "elapsed": 447,
     "user": {
      "displayName": "U _Bespalova",
      "photoUrl": "https://lh3.googleusercontent.com/a/default-user=s64",
      "userId": "08551389976769628918"
     }
    },
    "outputId": "bdfe294e-db3f-4a2d-c337-3c1da2f7b027"
   },
   "source": [
    "evr = pca.explained_variance_ratio_\n",
    "cvr = np.cumsum(pca.explained_variance_ratio_)\n",
    "pca_df = pd.DataFrame()\n",
    "pca_df['Cumulative Variance Ratio'] = cvr\n",
    "pca_df['Explained Variance Ratio'] = evr\n",
    "\n",
    "def _color(val):\n",
    "  color = 'blue' if 0.623<val and val<0.626 else ''\n",
    "  return 'color: %s' % color \n",
    "pca_df[75:85].style.applymap(_color)"
   ],
   "execution_count": null,
   "outputs": []
  },
  {
   "cell_type": "code",
   "metadata": {
    "id": "MDRMzIRrGmul"
   },
   "source": [
    "# 3) Доля объяснённой дисперсии при n_components=80 составляет 0.624504"
   ],
   "execution_count": null,
   "outputs": []
  },
  {
   "cell_type": "markdown",
   "metadata": {
    "id": "CVbZeDTyL-0r"
   },
   "source": [
    "# Задача про кластеризацию текстов"
   ]
  },
  {
   "cell_type": "markdown",
   "metadata": {
    "id": "CZQf2ZCCL-0u"
   },
   "source": [
    "Рассмотрим коллекцию новостных сообщений за первую половину 2017 года. Про каждое новостное сообщение известны:\n",
    "* его заголовок и текст\n",
    "* дата его публикации\n",
    "* событие, о котором это новостное сообщение написано \n",
    "* его рубрика "
   ]
  },
  {
   "cell_type": "code",
   "metadata": {
    "colab": {
     "base_uri": "https://localhost:8080/",
     "height": 206
    },
    "id": "-IC0K_egL-0v",
    "executionInfo": {
     "status": "ok",
     "timestamp": 1637411523472,
     "user_tz": -180,
     "elapsed": 737,
     "user": {
      "displayName": "U _Bespalova",
      "photoUrl": "https://lh3.googleusercontent.com/a/default-user=s64",
      "userId": "08551389976769628918"
     }
    },
    "outputId": "905b30fb-e27e-4777-9759-ce84abf99040"
   },
   "source": [
    "df = pd.read_csv('./drive/MyDrive/Colab_Notebooks/Technopark_ML/dz_4/data/news.csv', encoding='utf8')\n",
    "df.head()"
   ],
   "execution_count": null,
   "outputs": []
  },
  {
   "cell_type": "code",
   "metadata": {
    "colab": {
     "base_uri": "https://localhost:8080/"
    },
    "id": "V4mZPTghL-0y",
    "executionInfo": {
     "status": "ok",
     "timestamp": 1637411526935,
     "user_tz": -180,
     "elapsed": 302,
     "user": {
      "displayName": "U _Bespalova",
      "photoUrl": "https://lh3.googleusercontent.com/a/default-user=s64",
      "userId": "08551389976769628918"
     }
    },
    "outputId": "d865e010-4618-48e5-a093-0d5cfed178b1"
   },
   "source": [
    "df.loc[:, 'class'].value_counts()"
   ],
   "execution_count": null,
   "outputs": []
  },
  {
   "cell_type": "code",
   "metadata": {
    "id": "4z1ZEhTKs1Qr",
    "executionInfo": {
     "status": "ok",
     "timestamp": 1637417744296,
     "user_tz": -180,
     "elapsed": 345,
     "user": {
      "displayName": "U _Bespalova",
      "photoUrl": "https://lh3.googleusercontent.com/a/default-user=s64",
      "userId": "08551389976769628918"
     }
    }
   },
   "source": [
    "true_label = df.loc[:, 'class']"
   ],
   "execution_count": null,
   "outputs": []
  },
  {
   "cell_type": "markdown",
   "metadata": {
    "id": "YG9XpXHYL-00"
   },
   "source": [
    "Попробуем кластеризовать документы (каким-либо методом) и сравним полученное разбиение с данными рубликами с помощью ARI"
   ]
  },
  {
   "cell_type": "markdown",
   "metadata": {
    "id": "5mt6Zbj0L-02"
   },
   "source": [
    "## Стандартная предобработка текстов"
   ]
  },
  {
   "cell_type": "markdown",
   "metadata": {
    "id": "mbKfNB9YL-05"
   },
   "source": [
    "Ниже выполняется набор операций по предобработке текстов. Возможно на этом курсе про это не будет идти речь, однако идея довольно простая. Просто следите за комментариями =)"
   ]
  },
  {
   "cell_type": "code",
   "metadata": {
    "colab": {
     "base_uri": "https://localhost:8080/",
     "height": 157
    },
    "id": "w9qHyF1AL-07",
    "executionInfo": {
     "status": "ok",
     "timestamp": 1637411531643,
     "user_tz": -180,
     "elapsed": 326,
     "user": {
      "displayName": "U _Bespalova",
      "photoUrl": "https://lh3.googleusercontent.com/a/default-user=s64",
      "userId": "08551389976769628918"
     }
    },
    "outputId": "cd9a7c3e-75ee-4080-ee4a-31ada8b402cc"
   },
   "source": [
    "df.text[0] # Так выглядит первая статья до преобработки"
   ],
   "execution_count": null,
   "outputs": []
  },
  {
   "cell_type": "code",
   "metadata": {
    "id": "L7JRUqeqL-09"
   },
   "source": [
    "import re\n",
    "\n",
    "# Оставляем только кириллические символы\n",
    "regex = re.compile(u\"[А-Яа-я]+\")\n",
    "\n",
    "def words_only(text, regex=regex):\n",
    "    return \" \".join(regex.findall(text))"
   ],
   "execution_count": null,
   "outputs": []
  },
  {
   "cell_type": "code",
   "metadata": {
    "id": "wosfAEuHSJST"
   },
   "source": [
    "df.text = df.text.str.lower()\n",
    "df.loc[:, 'text'] = df.text.apply(words_only)"
   ],
   "execution_count": null,
   "outputs": []
  },
  {
   "cell_type": "code",
   "metadata": {
    "colab": {
     "base_uri": "https://localhost:8080/"
    },
    "id": "rPvlUVMiL-1A",
    "executionInfo": {
     "status": "ok",
     "timestamp": 1637411541707,
     "user_tz": -180,
     "elapsed": 518,
     "user": {
      "displayName": "U _Bespalova",
      "photoUrl": "https://lh3.googleusercontent.com/a/default-user=s64",
      "userId": "08551389976769628918"
     }
    },
    "outputId": "872d4911-0cab-4abf-9435-63be42301b55"
   },
   "source": [
    "import nltk\n",
    "nltk.download('stopwords')"
   ],
   "execution_count": null,
   "outputs": []
  },
  {
   "cell_type": "code",
   "metadata": {
    "id": "B55WPhR_L-1F"
   },
   "source": [
    "from nltk.corpus import stopwords\n",
    "\n",
    "# Удаляем стоп-слова\n",
    "mystopwords = stopwords.words('russian') + ['это', 'наш' , 'тыс', 'млн', 'млрд', u'также',  'т', 'д', '-', '-']\n",
    "\n",
    "def  remove_stopwords(text, mystopwords = mystopwords):\n",
    "    try:\n",
    "        return u\" \".join([token for token in text.split() if not token in mystopwords])\n",
    "    except:\n",
    "        return u\"\""
   ],
   "execution_count": null,
   "outputs": []
  },
  {
   "cell_type": "code",
   "metadata": {
    "colab": {
     "base_uri": "https://localhost:8080/",
     "height": 157
    },
    "id": "5nzkMRg7SYZf",
    "executionInfo": {
     "status": "ok",
     "timestamp": 1637411547964,
     "user_tz": -180,
     "elapsed": 451,
     "user": {
      "displayName": "U _Bespalova",
      "photoUrl": "https://lh3.googleusercontent.com/a/default-user=s64",
      "userId": "08551389976769628918"
     }
    },
    "outputId": "f4326af6-b07d-490d-f22d-22b222c7b4bf"
   },
   "source": [
    "df.text[0]"
   ],
   "execution_count": null,
   "outputs": []
  },
  {
   "cell_type": "code",
   "metadata": {
    "id": "Fq3bwJfPL-1H"
   },
   "source": [
    "# !pip install pymystem3\n",
    "!wget http://download.cdn.yandex.net/mystem/mystem-3.0-linux3.1-64bit.tar.gz\n",
    "!tar -xvf mystem-3.0-linux3.1-64bit.tar.gz\n",
    "!mv ./mystem ./drive/MyDrive/Colab_Notebooks/Technopark_ML/dz_4"
   ],
   "execution_count": null,
   "outputs": []
  },
  {
   "cell_type": "code",
   "metadata": {
    "id": "mCeN6WaAaxxy",
    "executionInfo": {
     "status": "ok",
     "timestamp": 1637413111125,
     "user_tz": -180,
     "elapsed": 285,
     "user": {
      "displayName": "U _Bespalova",
      "photoUrl": "https://lh3.googleusercontent.com/a/default-user=s64",
      "userId": "08551389976769628918"
     }
    }
   },
   "source": [
    "!sudo chmod 777 ./drive/MyDrive/Colab_Notebooks/Technopark_ML/dz_4/mystem"
   ],
   "execution_count": null,
   "outputs": []
  },
  {
   "cell_type": "code",
   "metadata": {
    "colab": {
     "base_uri": "https://localhost:8080/"
    },
    "id": "jJJcpbJ4L-1J",
    "executionInfo": {
     "status": "ok",
     "timestamp": 1637413234078,
     "user_tz": -180,
     "elapsed": 309,
     "user": {
      "displayName": "U _Bespalova",
      "photoUrl": "https://lh3.googleusercontent.com/a/default-user=s64",
      "userId": "08551389976769628918"
     }
    },
    "outputId": "4b4eb62b-6211-439f-8958-8b68470251b0"
   },
   "source": [
    "%%time \n",
    "from pymystem3 import Mystem\n",
    "\n",
    "# нормализуем текст\n",
    "bin_path = \"./drive/MyDrive/Colab_Notebooks/Technopark_ML/dz_4/mystem\"\n",
    "m = Mystem(bin_path)\n",
    "def lemmatize(text, mystem=m):\n",
    "    try:\n",
    "        return \"\".join(m.lemmatize(text)).strip()  \n",
    "    except:\n",
    "        return \" ! \""
   ],
   "execution_count": null,
   "outputs": []
  },
  {
   "cell_type": "code",
   "metadata": {
    "id": "KL_YLgAOTEBO",
    "executionInfo": {
     "status": "ok",
     "timestamp": 1637413294140,
     "user_tz": -180,
     "elapsed": 51189,
     "user": {
      "displayName": "U _Bespalova",
      "photoUrl": "https://lh3.googleusercontent.com/a/default-user=s64",
      "userId": "08551389976769628918"
     }
    }
   },
   "source": [
    "df.text = df.text.apply(lemmatize)"
   ],
   "execution_count": null,
   "outputs": []
  },
  {
   "cell_type": "code",
   "metadata": {
    "id": "sUvn6JOSL-1M",
    "executionInfo": {
     "status": "ok",
     "timestamp": 1637413310458,
     "user_tz": -180,
     "elapsed": 722,
     "user": {
      "displayName": "U _Bespalova",
      "photoUrl": "https://lh3.googleusercontent.com/a/default-user=s64",
      "userId": "08551389976769628918"
     }
    }
   },
   "source": [
    "mystoplemmas = [u'который', u'прошлый', u'сей', u'свой', u'наш', u'мочь']\n",
    "\n",
    "# Еще кое-что удаляем\n",
    "def  remove_stoplemmas(text, mystoplemmas = mystoplemmas):\n",
    "    try:\n",
    "        return \" \".join([token for token in text.split() if not token in mystoplemmas])\n",
    "    except:\n",
    "        return \"\"\n",
    "\n",
    "df.text = df.text.apply(remove_stoplemmas)  "
   ],
   "execution_count": null,
   "outputs": []
  },
  {
   "cell_type": "code",
   "metadata": {
    "colab": {
     "base_uri": "https://localhost:8080/",
     "height": 157
    },
    "id": "JlZyH2EaL-1R",
    "executionInfo": {
     "status": "ok",
     "timestamp": 1637413312890,
     "user_tz": -180,
     "elapsed": 25,
     "user": {
      "displayName": "U _Bespalova",
      "photoUrl": "https://lh3.googleusercontent.com/a/default-user=s64",
      "userId": "08551389976769628918"
     }
    },
    "outputId": "3617f248-8b14-4aee-86ff-177e16c61c57"
   },
   "source": [
    "df.text[3] # так выгладит третья статья после предобработки"
   ],
   "execution_count": null,
   "outputs": []
  },
  {
   "cell_type": "markdown",
   "metadata": {
    "id": "6omsS5T3L-1W"
   },
   "source": [
    "## Вычисление сходства (1 балл)"
   ]
  },
  {
   "cell_type": "markdown",
   "metadata": {
    "id": "Mw-NMk0zL-1Y"
   },
   "source": [
    "С помощью `TfidfVectorizer` и `pairwise_distances` расчитайте **косинусное** расстояние между всеми парами документов к корпусе.\n",
    "\n",
    "Про векторизацию текстов с помощью `CountVectorizer` или `TfidfVectorizer` можно почитать [тут](https://www.machinelearningmastery.ru/gentle-introduction-bag-words-model/) \n",
    "\n",
    "Запишите результат в переменную `S`"
   ]
  },
  {
   "cell_type": "code",
   "metadata": {
    "id": "6nLwuzOvL-1d",
    "executionInfo": {
     "status": "ok",
     "timestamp": 1637413346981,
     "user_tz": -180,
     "elapsed": 317,
     "user": {
      "displayName": "U _Bespalova",
      "photoUrl": "https://lh3.googleusercontent.com/a/default-user=s64",
      "userId": "08551389976769628918"
     }
    }
   },
   "source": [
    "import seaborn as sns\n",
    "from sklearn.feature_extraction.text import TfidfVectorizer\n",
    "from sklearn.metrics import pairwise_distances"
   ],
   "execution_count": null,
   "outputs": []
  },
  {
   "cell_type": "code",
   "metadata": {
    "id": "rMFcRhS5L-1f",
    "executionInfo": {
     "status": "ok",
     "timestamp": 1637413349045,
     "user_tz": -180,
     "elapsed": 321,
     "user": {
      "displayName": "U _Bespalova",
      "photoUrl": "https://lh3.googleusercontent.com/a/default-user=s64",
      "userId": "08551389976769628918"
     }
    }
   },
   "source": [
    "vect = TfidfVectorizer()\n",
    "texts = df.text.values"
   ],
   "execution_count": null,
   "outputs": []
  },
  {
   "cell_type": "code",
   "metadata": {
    "colab": {
     "base_uri": "https://localhost:8080/"
    },
    "id": "e7WQmGz5g1a9",
    "executionInfo": {
     "status": "ok",
     "timestamp": 1637414566016,
     "user_tz": -180,
     "elapsed": 283,
     "user": {
      "displayName": "U _Bespalova",
      "photoUrl": "https://lh3.googleusercontent.com/a/default-user=s64",
      "userId": "08551389976769628918"
     }
    },
    "outputId": "f459ba2c-66a1-45a8-b2f3-c9a911a4d913"
   },
   "source": [
    "len(texts)"
   ],
   "execution_count": null,
   "outputs": []
  },
  {
   "cell_type": "code",
   "metadata": {
    "colab": {
     "base_uri": "https://localhost:8080/"
    },
    "id": "dGNSa-xmcnjT",
    "executionInfo": {
     "status": "ok",
     "timestamp": 1637414572921,
     "user_tz": -180,
     "elapsed": 1217,
     "user": {
      "displayName": "U _Bespalova",
      "photoUrl": "https://lh3.googleusercontent.com/a/default-user=s64",
      "userId": "08551389976769628918"
     }
    },
    "outputId": "51a1d87a-955d-4771-eb2e-0a8c24824613"
   },
   "source": [
    "matrix = vect.fit_transform(texts)\n",
    "\n",
    "vecs = np.asarray(matrix.todense())\n",
    "vecs.shape"
   ],
   "execution_count": null,
   "outputs": []
  },
  {
   "cell_type": "code",
   "metadata": {
    "id": "CjlNPwbqL-1l",
    "colab": {
     "base_uri": "https://localhost:8080/"
    },
    "executionInfo": {
     "status": "ok",
     "timestamp": 1637415920194,
     "user_tz": -180,
     "elapsed": 3723,
     "user": {
      "displayName": "U _Bespalova",
      "photoUrl": "https://lh3.googleusercontent.com/a/default-user=s64",
      "userId": "08551389976769628918"
     }
    },
    "outputId": "f1c335dc-55e5-40f3-8d5d-07b4491c234e"
   },
   "source": [
    "S = pairwise_distances(vecs, metric='cosine')\n",
    "S.shape"
   ],
   "execution_count": null,
   "outputs": []
  },
  {
   "cell_type": "code",
   "metadata": {
    "colab": {
     "base_uri": "https://localhost:8080/",
     "height": 604
    },
    "id": "k3xXbMWDL-1n",
    "executionInfo": {
     "status": "ok",
     "timestamp": 1637416000966,
     "user_tz": -180,
     "elapsed": 7957,
     "user": {
      "displayName": "U _Bespalova",
      "photoUrl": "https://lh3.googleusercontent.com/a/default-user=s64",
      "userId": "08551389976769628918"
     }
    },
    "outputId": "d9ae0372-e706-46bb-d8b7-cb72941b5d9a"
   },
   "source": [
    "plt.figure(figsize = (10,10))\n",
    "sns.heatmap(data=S, cmap = 'Spectral').set(xticklabels=[],yticklabels=[])\n"
   ],
   "execution_count": null,
   "outputs": []
  },
  {
   "cell_type": "markdown",
   "metadata": {
    "id": "7A7cosmgL-1q"
   },
   "source": [
    "Вы должны пронаблюдать, что между некоторыми текстами есть довольно высокое сходство по содержанию слов - мы видим, что вдоль диагонали матрицы попарых расстояний есть \"блоки\" по похожести. \n",
    "\n",
    "Нам конечно же повезло, так как тексты заранее были удачно упорядочены. В реальности такой живописной картины мы скорее всего не увидим.\n",
    "\n",
    "Попробуем их кластеризовать"
   ]
  },
  {
   "cell_type": "markdown",
   "metadata": {
    "id": "R3QmWQ6EL-1r"
   },
   "source": [
    "## DBSCAN (4 балла)\n",
    "* (2) Воспользуйтесь методикой оценки параметров для алгоритма DBSCAN. Не копипастите `min_pts = 2` из семинара! Используйте **косинусную** меру близости.\n",
    "* (1) Выделите кластеры. Для каждого кластера (кроме -1, если он будет) выведите несколько текстов и умозрительно определите его тематику. Можете подсмотреть в исходные тематики корпуса\n",
    "* (1) Оцените сходство с изначальными рубриками визуально (с помощью матрицы перемешивания) и с помощью [Adjusted Rand Index](https://en.wikipedia.org/wiki/Rand_index)"
   ]
  },
  {
   "cell_type": "code",
   "metadata": {
    "id": "cFTljGz5L-1t",
    "executionInfo": {
     "status": "ok",
     "timestamp": 1637419497992,
     "user_tz": -180,
     "elapsed": 361,
     "user": {
      "displayName": "U _Bespalova",
      "photoUrl": "https://lh3.googleusercontent.com/a/default-user=s64",
      "userId": "08551389976769628918"
     }
    }
   },
   "source": [
    "# 1) Согласно карте схожести, размер самого маленького \"блока\" похожих элементов составляет 10-15 штучек\n",
    "# Примем min_pts = 10"
   ],
   "execution_count": null,
   "outputs": []
  },
  {
   "cell_type": "code",
   "metadata": {
    "id": "QaHdoD4UnkmM",
    "executionInfo": {
     "status": "ok",
     "timestamp": 1637416879203,
     "user_tz": -180,
     "elapsed": 349,
     "user": {
      "displayName": "U _Bespalova",
      "photoUrl": "https://lh3.googleusercontent.com/a/default-user=s64",
      "userId": "08551389976769628918"
     }
    }
   },
   "source": [
    "from sklearn.neighbors import NearestNeighbors\n",
    "from sklearn.cluster import DBSCAN"
   ],
   "execution_count": null,
   "outputs": []
  },
  {
   "cell_type": "code",
   "metadata": {
    "colab": {
     "base_uri": "https://localhost:8080/"
    },
    "id": "IK4SJ03XmFag",
    "executionInfo": {
     "status": "ok",
     "timestamp": 1637419174597,
     "user_tz": -180,
     "elapsed": 368,
     "user": {
      "displayName": "U _Bespalova",
      "photoUrl": "https://lh3.googleusercontent.com/a/default-user=s64",
      "userId": "08551389976769628918"
     }
    },
    "outputId": "78206514-47d2-428d-a803-0df61d4f0d5f"
   },
   "source": [
    "# Определим наиболее подходящее значение eps \n",
    "\n",
    "min_pts = 10\n",
    "nn = NearestNeighbors(n_neighbors = min_pts, metric='cosine')\n",
    "nn.fit(vecs)"
   ],
   "execution_count": null,
   "outputs": []
  },
  {
   "cell_type": "code",
   "metadata": {
    "id": "qRaMa4gknU9y",
    "executionInfo": {
     "status": "ok",
     "timestamp": 1637419179448,
     "user_tz": -180,
     "elapsed": 3589,
     "user": {
      "displayName": "U _Bespalova",
      "photoUrl": "https://lh3.googleusercontent.com/a/default-user=s64",
      "userId": "08551389976769628918"
     }
    }
   },
   "source": [
    "dist, _ = nn.kneighbors(vecs)"
   ],
   "execution_count": null,
   "outputs": []
  },
  {
   "cell_type": "code",
   "metadata": {
    "id": "EXjGp_VIn0AW",
    "executionInfo": {
     "status": "ok",
     "timestamp": 1637419179461,
     "user_tz": -180,
     "elapsed": 55,
     "user": {
      "displayName": "U _Bespalova",
      "photoUrl": "https://lh3.googleusercontent.com/a/default-user=s64",
      "userId": "08551389976769628918"
     }
    }
   },
   "source": [
    "dist_last = dist[:, -1]\n",
    "dist_last = np.sort(dist_last)"
   ],
   "execution_count": null,
   "outputs": []
  },
  {
   "cell_type": "code",
   "metadata": {
    "colab": {
     "base_uri": "https://localhost:8080/",
     "height": 345
    },
    "id": "gphfQZdeooP3",
    "executionInfo": {
     "status": "ok",
     "timestamp": 1637419179468,
     "user_tz": -180,
     "elapsed": 56,
     "user": {
      "displayName": "U _Bespalova",
      "photoUrl": "https://lh3.googleusercontent.com/a/default-user=s64",
      "userId": "08551389976769628918"
     }
    },
    "outputId": "7c43702e-2eae-4a30-f91e-6efc0d20ec7f"
   },
   "source": [
    "plt.figure(figsize = (8,5))\n",
    "plt.plot(dist_last)"
   ],
   "execution_count": null,
   "outputs": []
  },
  {
   "cell_type": "code",
   "metadata": {
    "id": "vE4lNhN30GxN",
    "executionInfo": {
     "status": "ok",
     "timestamp": 1637419625988,
     "user_tz": -180,
     "elapsed": 617,
     "user": {
      "displayName": "U _Bespalova",
      "photoUrl": "https://lh3.googleusercontent.com/a/default-user=s64",
      "userId": "08551389976769628918"
     }
    }
   },
   "source": [
    "# Примем eps = 0.6"
   ],
   "execution_count": null,
   "outputs": []
  },
  {
   "cell_type": "code",
   "metadata": {
    "id": "TVIH9SJ6n0Ob",
    "executionInfo": {
     "status": "ok",
     "timestamp": 1637419630934,
     "user_tz": -180,
     "elapsed": 3653,
     "user": {
      "displayName": "U _Bespalova",
      "photoUrl": "https://lh3.googleusercontent.com/a/default-user=s64",
      "userId": "08551389976769628918"
     }
    }
   },
   "source": [
    "clustering = DBSCAN(eps = 0.6, min_samples=min_pts, metric='cosine').fit(vecs)"
   ],
   "execution_count": null,
   "outputs": []
  },
  {
   "cell_type": "code",
   "metadata": {
    "id": "rVKM_yfKL-1v",
    "colab": {
     "base_uri": "https://localhost:8080/"
    },
    "executionInfo": {
     "status": "ok",
     "timestamp": 1637419630939,
     "user_tz": -180,
     "elapsed": 42,
     "user": {
      "displayName": "U _Bespalova",
      "photoUrl": "https://lh3.googleusercontent.com/a/default-user=s64",
      "userId": "08551389976769628918"
     }
    },
    "outputId": "922b5980-5f11-48eb-f243-bbf36867756e"
   },
   "source": [
    "labels = clustering.labels_\n",
    "len(set(labels))"
   ],
   "execution_count": null,
   "outputs": []
  },
  {
   "cell_type": "code",
   "metadata": {
    "id": "tsGd27Wu4J2Y",
    "executionInfo": {
     "status": "ok",
     "timestamp": 1637420803606,
     "user_tz": -180,
     "elapsed": 294,
     "user": {
      "displayName": "U _Bespalova",
      "photoUrl": "https://lh3.googleusercontent.com/a/default-user=s64",
      "userId": "08551389976769628918"
     }
    }
   },
   "source": [
    "# 2) Попробуем интерпретировать полученные кластеры"
   ],
   "execution_count": null,
   "outputs": []
  },
  {
   "cell_type": "code",
   "metadata": {
    "id": "rbA27HMw2YAp",
    "executionInfo": {
     "status": "ok",
     "timestamp": 1637420806248,
     "user_tz": -180,
     "elapsed": 18,
     "user": {
      "displayName": "U _Bespalova",
      "photoUrl": "https://lh3.googleusercontent.com/a/default-user=s64",
      "userId": "08551389976769628918"
     }
    }
   },
   "source": [
    "df_clasters = pd.concat([df, pd.DataFrame(labels, columns=[\"dbscan_labels\"])], axis=1)"
   ],
   "execution_count": null,
   "outputs": []
  },
  {
   "cell_type": "code",
   "metadata": {
    "colab": {
     "base_uri": "https://localhost:8080/"
    },
    "id": "mX990b6j3yZW",
    "executionInfo": {
     "status": "ok",
     "timestamp": 1637422160808,
     "user_tz": -180,
     "elapsed": 367,
     "user": {
      "displayName": "U _Bespalova",
      "photoUrl": "https://lh3.googleusercontent.com/a/default-user=s64",
      "userId": "08551389976769628918"
     }
    },
    "outputId": "20333a62-4e17-4c95-982d-64ab2191d704"
   },
   "source": [
    "# label 0\n",
    "df_clasters[df_clasters.dbscan_labels==0].text[:5]\n",
    "\n",
    "# Выглядит как внутренняя политика и оппозиция"
   ],
   "execution_count": null,
   "outputs": []
  },
  {
   "cell_type": "code",
   "metadata": {
    "colab": {
     "base_uri": "https://localhost:8080/"
    },
    "id": "74Ab-36g3y0j",
    "executionInfo": {
     "status": "ok",
     "timestamp": 1637421290531,
     "user_tz": -180,
     "elapsed": 291,
     "user": {
      "displayName": "U _Bespalova",
      "photoUrl": "https://lh3.googleusercontent.com/a/default-user=s64",
      "userId": "08551389976769628918"
     }
    },
    "outputId": "50f77d79-8b97-450c-f1ca-8bc8460bec6a"
   },
   "source": [
    "# label 1\n",
    "df_clasters[df_clasters.dbscan_labels==1].text[:5]\n",
    "\n",
    "# Узнала, что такое инаугурация. Вполне похоже на внешнюю политику"
   ],
   "execution_count": null,
   "outputs": []
  },
  {
   "cell_type": "code",
   "metadata": {
    "colab": {
     "base_uri": "https://localhost:8080/"
    },
    "id": "BCsb_5Y_53N_",
    "executionInfo": {
     "status": "ok",
     "timestamp": 1637421284666,
     "user_tz": -180,
     "elapsed": 347,
     "user": {
      "displayName": "U _Bespalova",
      "photoUrl": "https://lh3.googleusercontent.com/a/default-user=s64",
      "userId": "08551389976769628918"
     }
    },
    "outputId": "c0d501e0-7d1e-4800-f016-f9dbdbafbc1c"
   },
   "source": [
    "# label 2\n",
    "df_clasters[df_clasters.dbscan_labels==2].text[:5]\n",
    "\n",
    "# Какие-то перемешанные темы внутренней и внешней политики"
   ],
   "execution_count": null,
   "outputs": []
  },
  {
   "cell_type": "code",
   "metadata": {
    "colab": {
     "base_uri": "https://localhost:8080/"
    },
    "id": "oSGnu6OZ6Z3j",
    "executionInfo": {
     "status": "ok",
     "timestamp": 1637421489417,
     "user_tz": -180,
     "elapsed": 324,
     "user": {
      "displayName": "U _Bespalova",
      "photoUrl": "https://lh3.googleusercontent.com/a/default-user=s64",
      "userId": "08551389976769628918"
     }
    },
    "outputId": "d25dbabe-5f03-4ae8-e043-42f4abb9fd6a"
   },
   "source": [
    "# label 3\n",
    "df_clasters[df_clasters.dbscan_labels==3].text[:5]\n",
    "\n",
    "# Смерть дипломата тянет на мировые события или внешнюю политику"
   ],
   "execution_count": null,
   "outputs": []
  },
  {
   "cell_type": "code",
   "metadata": {
    "colab": {
     "base_uri": "https://localhost:8080/"
    },
    "id": "GlTPRAdi7Trl",
    "executionInfo": {
     "status": "ok",
     "timestamp": 1637421534898,
     "user_tz": -180,
     "elapsed": 305,
     "user": {
      "displayName": "U _Bespalova",
      "photoUrl": "https://lh3.googleusercontent.com/a/default-user=s64",
      "userId": "08551389976769628918"
     }
    },
    "outputId": "bec5215c-dd51-4a27-f84e-aac294cf58f9"
   },
   "source": [
    "# label 4\n",
    "df_clasters[df_clasters.dbscan_labels==4].text[:5]\n",
    "\n",
    "# Вот это точно мировые события"
   ],
   "execution_count": null,
   "outputs": []
  },
  {
   "cell_type": "code",
   "metadata": {
    "colab": {
     "base_uri": "https://localhost:8080/"
    },
    "id": "CgZ5lyZ-7eAZ",
    "executionInfo": {
     "status": "ok",
     "timestamp": 1637421609355,
     "user_tz": -180,
     "elapsed": 349,
     "user": {
      "displayName": "U _Bespalova",
      "photoUrl": "https://lh3.googleusercontent.com/a/default-user=s64",
      "userId": "08551389976769628918"
     }
    },
    "outputId": "01a08373-df67-4229-d8bc-91c4bceb95ea"
   },
   "source": [
    "# label 5\n",
    "df_clasters[df_clasters.dbscan_labels==5].text[:5]\n",
    "\n",
    "# А это точно теракты"
   ],
   "execution_count": null,
   "outputs": []
  },
  {
   "cell_type": "code",
   "metadata": {
    "colab": {
     "base_uri": "https://localhost:8080/"
    },
    "id": "7WHnv7iI53rx",
    "executionInfo": {
     "status": "ok",
     "timestamp": 1637421699563,
     "user_tz": -180,
     "elapsed": 305,
     "user": {
      "displayName": "U _Bespalova",
      "photoUrl": "https://lh3.googleusercontent.com/a/default-user=s64",
      "userId": "08551389976769628918"
     }
    },
    "outputId": "8cfea395-aa94-4401-f80a-a0d9c42fc1ee"
   },
   "source": [
    "# label 6\n",
    "df_clasters[df_clasters.dbscan_labels==6].text[:7]\n",
    "\n",
    "# Криминальная хроника, тоже несложно"
   ],
   "execution_count": null,
   "outputs": []
  },
  {
   "cell_type": "code",
   "metadata": {
    "colab": {
     "base_uri": "https://localhost:8080/"
    },
    "id": "h32ckBxa7xa9",
    "executionInfo": {
     "status": "ok",
     "timestamp": 1637421855015,
     "user_tz": -180,
     "elapsed": 298,
     "user": {
      "displayName": "U _Bespalova",
      "photoUrl": "https://lh3.googleusercontent.com/a/default-user=s64",
      "userId": "08551389976769628918"
     }
    },
    "outputId": "298447e3-ed4c-4fdb-fe99-61593c3e0326"
   },
   "source": [
    "# label 7\n",
    "df_clasters[df_clasters.dbscan_labels==7].text[:5]\n",
    "\n",
    "# Либо мировые события, либо технологии"
   ],
   "execution_count": null,
   "outputs": []
  },
  {
   "cell_type": "code",
   "metadata": {
    "colab": {
     "base_uri": "https://localhost:8080/"
    },
    "id": "6wk6qJB87xrD",
    "executionInfo": {
     "status": "ok",
     "timestamp": 1637421908670,
     "user_tz": -180,
     "elapsed": 312,
     "user": {
      "displayName": "U _Bespalova",
      "photoUrl": "https://lh3.googleusercontent.com/a/default-user=s64",
      "userId": "08551389976769628918"
     }
    },
    "outputId": "6db2de91-a2f0-4fc7-94be-5ddaa24a9419"
   },
   "source": [
    "# label 8\n",
    "df_clasters[df_clasters.dbscan_labels==8].text[:5]\n",
    "\n",
    "# Точно спорт"
   ],
   "execution_count": null,
   "outputs": []
  },
  {
   "cell_type": "code",
   "metadata": {
    "colab": {
     "base_uri": "https://localhost:8080/"
    },
    "id": "8-41ZLlo8shv",
    "executionInfo": {
     "status": "ok",
     "timestamp": 1637421973661,
     "user_tz": -180,
     "elapsed": 360,
     "user": {
      "displayName": "U _Bespalova",
      "photoUrl": "https://lh3.googleusercontent.com/a/default-user=s64",
      "userId": "08551389976769628918"
     }
    },
    "outputId": "0c3b422d-090c-456c-f792-db12adeb879a"
   },
   "source": [
    "# label 9\n",
    "df_clasters[df_clasters.dbscan_labels==9].text[:5]\n",
    "\n",
    "# Определенно внутренняя политика"
   ],
   "execution_count": null,
   "outputs": []
  },
  {
   "cell_type": "code",
   "metadata": {
    "colab": {
     "base_uri": "https://localhost:8080/"
    },
    "id": "dxtKiuRG9JnY",
    "executionInfo": {
     "status": "ok",
     "timestamp": 1637422044832,
     "user_tz": -180,
     "elapsed": 285,
     "user": {
      "displayName": "U _Bespalova",
      "photoUrl": "https://lh3.googleusercontent.com/a/default-user=s64",
      "userId": "08551389976769628918"
     }
    },
    "outputId": "b40f0f5d-0272-49b6-ad25-c997097e0d06"
   },
   "source": [
    "# label 10\n",
    "df_clasters[df_clasters.dbscan_labels==10].text[:5]\n",
    "\n",
    "# Международные отношения или мировые события"
   ],
   "execution_count": null,
   "outputs": []
  },
  {
   "cell_type": "code",
   "metadata": {
    "colab": {
     "base_uri": "https://localhost:8080/"
    },
    "id": "RKfmQ1Nr8st2",
    "executionInfo": {
     "status": "ok",
     "timestamp": 1637422086061,
     "user_tz": -180,
     "elapsed": 568,
     "user": {
      "displayName": "U _Bespalova",
      "photoUrl": "https://lh3.googleusercontent.com/a/default-user=s64",
      "userId": "08551389976769628918"
     }
    },
    "outputId": "975f51bc-00a9-4b26-ca9a-b79124832cdc"
   },
   "source": [
    "# label 11\n",
    "df_clasters[df_clasters.dbscan_labels==11].text[:5]\n",
    "\n",
    "# Проишествия  РФ"
   ],
   "execution_count": null,
   "outputs": []
  },
  {
   "cell_type": "code",
   "metadata": {
    "colab": {
     "base_uri": "https://localhost:8080/"
    },
    "id": "4H1iK_w79bJU",
    "executionInfo": {
     "status": "ok",
     "timestamp": 1637422128676,
     "user_tz": -180,
     "elapsed": 297,
     "user": {
      "displayName": "U _Bespalova",
      "photoUrl": "https://lh3.googleusercontent.com/a/default-user=s64",
      "userId": "08551389976769628918"
     }
    },
    "outputId": "19a253d4-8a49-4b74-c239-8daa91dcd8f3"
   },
   "source": [
    "# label 12\n",
    "df_clasters[df_clasters.dbscan_labels==12].text[:5]\n",
    "\n",
    "# Внутренняя политика"
   ],
   "execution_count": null,
   "outputs": []
  },
  {
   "cell_type": "code",
   "metadata": {
    "id": "uoBQ5Md-9bYi",
    "executionInfo": {
     "status": "ok",
     "timestamp": 1637422348649,
     "user_tz": -180,
     "elapsed": 301,
     "user": {
      "displayName": "U _Bespalova",
      "photoUrl": "https://lh3.googleusercontent.com/a/default-user=s64",
      "userId": "08551389976769628918"
     }
    }
   },
   "source": [
    "# Оно даже интерпретируется\n",
    "# По крайней мере, элементы внутри кластера похожи\n",
    "# А вот с отделением кластеров друг от друга всё не очень"
   ],
   "execution_count": null,
   "outputs": []
  },
  {
   "cell_type": "code",
   "metadata": {
    "id": "rh96eOll0M2b",
    "executionInfo": {
     "status": "ok",
     "timestamp": 1637422597874,
     "user_tz": -180,
     "elapsed": 346,
     "user": {
      "displayName": "U _Bespalova",
      "photoUrl": "https://lh3.googleusercontent.com/a/default-user=s64",
      "userId": "08551389976769628918"
     }
    }
   },
   "source": [
    "# 3) Сравнение с правильными значениями\n",
    "\n",
    "# Больше всего проблем с разграничением важных мировых событий и внутренней политики\n",
    "# (Справедливости ради, я тоже их путаю)\n",
    "# Зато неплохо справились с разделением более конкретных тем вроде террактов и культуры."
   ],
   "execution_count": null,
   "outputs": []
  },
  {
   "cell_type": "code",
   "metadata": {
    "scrolled": false,
    "id": "JZYU4ml7L-1y",
    "colab": {
     "base_uri": "https://localhost:8080/",
     "height": 426
    },
    "executionInfo": {
     "status": "ok",
     "timestamp": 1637419460234,
     "user_tz": -180,
     "elapsed": 72,
     "user": {
      "displayName": "U _Bespalova",
      "photoUrl": "https://lh3.googleusercontent.com/a/default-user=s64",
      "userId": "08551389976769628918"
     }
    },
    "outputId": "b0f01d09-281c-47bd-f772-cacd3cc7e1a8"
   },
   "source": [
    "pd.crosstab(df.loc[:, 'class'], labels)"
   ],
   "execution_count": 2,
   "outputs": [
    {
     "ename": "NameError",
     "evalue": "name 'pd' is not defined",
     "output_type": "error",
     "traceback": [
      "\u001B[1;31m---------------------------------------------------------------------------\u001B[0m",
      "\u001B[1;31mNameError\u001B[0m                                 Traceback (most recent call last)",
      "Cell \u001B[1;32mIn[2], line 1\u001B[0m\n\u001B[1;32m----> 1\u001B[0m \u001B[43mpd\u001B[49m\u001B[38;5;241m.\u001B[39mcrosstab(df\u001B[38;5;241m.\u001B[39mloc[:, \u001B[38;5;124m'\u001B[39m\u001B[38;5;124mclass\u001B[39m\u001B[38;5;124m'\u001B[39m], labels)\n",
      "\u001B[1;31mNameError\u001B[0m: name 'pd' is not defined"
     ]
    }
   ]
  },
  {
   "cell_type": "code",
   "metadata": {
    "id": "ahQeTKu2L-12",
    "colab": {
     "base_uri": "https://localhost:8080/"
    },
    "executionInfo": {
     "status": "ok",
     "timestamp": 1637419460238,
     "user_tz": -180,
     "elapsed": 62,
     "user": {
      "displayName": "U _Bespalova",
      "photoUrl": "https://lh3.googleusercontent.com/a/default-user=s64",
      "userId": "08551389976769628918"
     }
    },
    "outputId": "6e2e9cff-3301-4069-acf1-87e00b0a4f68"
   },
   "source": [
    "from sklearn.metrics import adjusted_rand_score\n",
    "adjusted_rand_score(true_label, labels)"
   ],
   "execution_count": 3,
   "outputs": [
    {
     "ename": "NameError",
     "evalue": "name 'true_label' is not defined",
     "output_type": "error",
     "traceback": [
      "\u001B[1;31m---------------------------------------------------------------------------\u001B[0m",
      "\u001B[1;31mNameError\u001B[0m                                 Traceback (most recent call last)",
      "Cell \u001B[1;32mIn[3], line 2\u001B[0m\n\u001B[0;32m      1\u001B[0m \u001B[38;5;28;01mfrom\u001B[39;00m \u001B[38;5;21;01msklearn\u001B[39;00m\u001B[38;5;21;01m.\u001B[39;00m\u001B[38;5;21;01mmetrics\u001B[39;00m \u001B[38;5;28;01mimport\u001B[39;00m adjusted_rand_score\n\u001B[1;32m----> 2\u001B[0m adjusted_rand_score(\u001B[43mtrue_label\u001B[49m, labels)\n",
      "\u001B[1;31mNameError\u001B[0m: name 'true_label' is not defined"
     ]
    }
   ]
  }
 ]
}

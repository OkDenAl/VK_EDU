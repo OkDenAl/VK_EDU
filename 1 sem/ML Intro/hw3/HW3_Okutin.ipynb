{
 "cells": [
  {
   "cell_type": "code",
   "execution_count": 1,
   "metadata": {
    "collapsed": true
   },
   "outputs": [],
   "source": [
    "import numpy as np\n",
    "from scipy import sparse\n",
    "import pandas as pd\n",
    "from sklearn.metrics import f1_score\n",
    "from sklearn.feature_extraction.text import TfidfVectorizer\n",
    "from sklearn.linear_model import SGDClassifier"
   ]
  },
  {
   "cell_type": "code",
   "execution_count": 2,
   "outputs": [],
   "source": [
    "def features(df):\n",
    "    words_ru = ['порн', 'очко', 'ебет', 'раком', 'секс', 'лесби',\n",
    "             'куни', 'голы', 'эроти', 'раздетый', 'соски',\n",
    "             'обнаженн', 'интим', 'видео', 'гей', 'орал', 'анал', 'еб', 'трах', 'жар', 'стринг','жоп','конч',\n",
    "                'вагин', 'попа', 'попу', 'попк', 'пизд', 'орги', 'фистинг', 'сперм']\n",
    "    words_en = [\"porn\", \"sex\", \"x\", \"xxx\", \"lesbi\", \"fuck\",  \"horny\", \"naked\", \"dirty\"\n",
    "               \"gay\", \"vagin\", \"oral\"\n",
    "               \"nude\", \"tit\", \"dick\", \"girl\", \"hot\", \"undress\", \"anal\", \"slut\", \"topless\", \"pussy\",\n",
    "                \"video\", \"ero\", \"ass\", \"cum\", \"sperm\"]\n",
    "\n",
    "    title = df[\"title\"].values\n",
    "    url = df[\"url\"].values\n",
    "\n",
    "    result = []\n",
    "    for i, val in enumerate(title):\n",
    "        result.append([])\n",
    "        for j in words_ru:\n",
    "            result[-1].append(int(j in val.lower()))\n",
    "        for j in words_en:\n",
    "            result[-1].append(int(j in val.lower()))\n",
    "        for j in words_en:\n",
    "            result[-1].append(int(j in url[i].lower()))\n",
    "    return result"
   ],
   "metadata": {
    "collapsed": false
   }
  },
  {
   "cell_type": "code",
   "execution_count": 3,
   "outputs": [],
   "source": [
    "train_df = pd.read_csv(\"train.csv\")\n",
    "test_df = pd.read_csv(\"test.csv\")"
   ],
   "metadata": {
    "collapsed": false
   }
  },
  {
   "cell_type": "code",
   "execution_count": 4,
   "outputs": [],
   "source": [
    "X_train = train_df[\"title\"].values + ' ' + train_df[\"url\"].values\n",
    "X_test = test_df[\"title\"].values+ ' '+test_df[\"url\"].values\n",
    "y_train = train_df[\"target\"].astype(int).values"
   ],
   "metadata": {
    "collapsed": false
   }
  },
  {
   "cell_type": "code",
   "execution_count": 5,
   "outputs": [],
   "source": [
    "import nltk\n",
    "\n",
    "stop_words = nltk.corpus.stopwords.words('russian')"
   ],
   "metadata": {
    "collapsed": false
   }
  },
  {
   "cell_type": "code",
   "execution_count": 6,
   "outputs": [
    {
     "name": "stdout",
     "output_type": "stream",
     "text": [
      "0.1\n",
      "0.2\n",
      "0.30000000000000004\n",
      "0.4\n",
      "[0.9976705292079798, 0.9977003255383329, 0.997789593165661, 0.9976404527941221]\n"
     ]
    }
   ],
   "source": [
    "from sklearn.feature_extraction.text import CountVectorizer\n",
    "ans=[]\n",
    "i=0.1\n",
    "while i<0.5:\n",
    "    vectorizer = CountVectorizer(stop_words=stop_words,ngram_range=(2,4),max_df=i)\n",
    "    model = SGDClassifier(class_weight='balanced')\n",
    "\n",
    "    X_train_vectorized = sparse.hstack((vectorizer.fit_transform(X_train), sparse.csr_matrix(np.asarray(features(train_df)))))\n",
    "    model.fit(\n",
    "        X_train_vectorized,\n",
    "        y_train\n",
    "    )\n",
    "    y_pred = model.predict(\n",
    "        X_train_vectorized\n",
    "    )\n",
    "    ans.append(f1_score(y_train, y_pred))\n",
    "    print(i)\n",
    "    i+=0.1\n",
    "print(ans)"
   ],
   "metadata": {
    "collapsed": false
   }
  },
  {
   "cell_type": "code",
   "execution_count": 7,
   "outputs": [],
   "source": [
    "import re\n",
    "\n",
    "\n",
    "def preprocessor(text):\n",
    "    whitespaced_text = re.sub(\"[а-яa-z]\", ' ', text.lower())\n",
    "    return re.sub(' +', ' ',  whitespaced_text)"
   ],
   "metadata": {
    "collapsed": false
   }
  },
  {
   "cell_type": "code",
   "execution_count": 8,
   "outputs": [
    {
     "name": "stdout",
     "output_type": "stream",
     "text": [
      "0.9978791409027092\n"
     ]
    }
   ],
   "source": [
    "# на самом деле на тестовых данных в kagle модель работает лучше с параметрами по умолчанию. Но наибольший скор на трейне выдаётся именно при таких параметрах. С препроцессором тоже игрался, но с ним прям всё супер плохо.\n",
    "\n",
    "vectorizer = CountVectorizer(ngram_range=(2,4),max_df=0.4)\n",
    "model = SGDClassifier(class_weight='balanced')\n",
    "\n",
    "X_train_vectorized = sparse.hstack((vectorizer.fit_transform(X_train), sparse.csr_matrix(np.asarray(features(train_df)))))\n",
    "model.fit(\n",
    "    X_train_vectorized,\n",
    "    y_train\n",
    ")\n",
    "y_pred = model.predict(\n",
    "    X_train_vectorized\n",
    ")\n",
    "print(f1_score(y_train, y_pred))"
   ],
   "metadata": {
    "collapsed": false
   }
  },
  {
   "cell_type": "code",
   "execution_count": 9,
   "outputs": [],
   "source": [
    "X_test_vectorized = sparse.hstack((vectorizer.transform(X_test), sparse.csr_matrix(np.asarray(features(test_df)))))\n",
    "\n",
    "test_df[\"target\"] = model.predict(X_test_vectorized).astype(bool)\n",
    "\n",
    "test_df[[\"id\", \"target\"]].to_csv(\"ml_baseline.csv\", index=False)"
   ],
   "metadata": {
    "collapsed": false
   }
  }
 ],
 "metadata": {
  "kernelspec": {
   "display_name": "Python 3",
   "language": "python",
   "name": "python3"
  },
  "language_info": {
   "codemirror_mode": {
    "name": "ipython",
    "version": 2
   },
   "file_extension": ".py",
   "mimetype": "text/x-python",
   "name": "python",
   "nbconvert_exporter": "python",
   "pygments_lexer": "ipython2",
   "version": "2.7.6"
  }
 },
 "nbformat": 4,
 "nbformat_minor": 0
}
